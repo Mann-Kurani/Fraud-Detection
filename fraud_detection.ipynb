{
 "cells": [
  {
   "cell_type": "code",
   "execution_count": 1,
   "metadata": {},
   "outputs": [],
   "source": [
    "import math\n",
    "import pandas as pd\n",
    "import numpy as np\n",
    "from sklearn.model_selection import train_test_split\n",
    "from sklearn.linear_model import LogisticRegression\n",
    "from sklearn.metrics import confusion_matrix\n",
    "from sklearn.metrics import classification_report\n",
    "from sklearn.metrics import roc_curve, auc\n",
    "from sklearn.metrics import accuracy_score,recall_score,precision_score,f1_score\n",
    "import matplotlib.pyplot as plt\n",
    "from sklearn.preprocessing import StandardScaler,RobustScaler\n",
    "import seaborn as sns\n",
    "import statsmodels.api as sm\n",
    "from sklearn import neighbors\n",
    "from sklearn.ensemble import RandomForestClassifier\n",
    "from sklearn.tree import DecisionTreeClassifier\n",
    "from sklearn.svm import SVC\n",
    "from sklearn.model_selection import GridSearchCV\n",
    "from sklearn.naive_bayes import GaussianNB\n",
    "from statsmodels.stats.outliers_influence import variance_inflation_factor\n",
    "import datetime\n"
   ]
  },
  {
   "cell_type": "code",
   "execution_count": 2,
   "metadata": {},
   "outputs": [],
   "source": [
    "train = pd.read_csv(\"train_data-1599717478076.csv\")\n",
    "test = pd.read_csv(\"test_data-1599717650029.csv\")\n",
    "sol = pd.read_csv(\"Solution.csv\")"
   ]
  },
  {
   "cell_type": "code",
   "execution_count": 3,
   "metadata": {},
   "outputs": [],
   "source": [
    "test = pd.merge(left=test,right=sol,on=\"transaction_number\",how=\"inner\")"
   ]
  },
  {
   "cell_type": "code",
   "execution_count": 4,
   "metadata": {},
   "outputs": [],
   "source": [
    "train[\"split\"] = \"train\"\n",
    "test[\"split\"] = \"test\""
   ]
  },
  {
   "cell_type": "code",
   "execution_count": 5,
   "metadata": {},
   "outputs": [],
   "source": [
    "data = pd.concat([train,test])"
   ]
  },
  {
   "cell_type": "code",
   "execution_count": 6,
   "metadata": {},
   "outputs": [
    {
     "data": {
      "text/html": [
       "<div>\n",
       "<style scoped>\n",
       "    .dataframe tbody tr th:only-of-type {\n",
       "        vertical-align: middle;\n",
       "    }\n",
       "\n",
       "    .dataframe tbody tr th {\n",
       "        vertical-align: top;\n",
       "    }\n",
       "\n",
       "    .dataframe thead th {\n",
       "        text-align: right;\n",
       "    }\n",
       "</style>\n",
       "<table border=\"1\" class=\"dataframe\">\n",
       "  <thead>\n",
       "    <tr style=\"text-align: right;\">\n",
       "      <th></th>\n",
       "      <th>transaction_number</th>\n",
       "      <th>user_id</th>\n",
       "      <th>payment_method</th>\n",
       "      <th>partner_id</th>\n",
       "      <th>partner_category</th>\n",
       "      <th>country</th>\n",
       "      <th>device_type</th>\n",
       "      <th>money_transacted</th>\n",
       "      <th>transaction_initiation</th>\n",
       "      <th>partner_pricing_category</th>\n",
       "      <th>is_fraud</th>\n",
       "      <th>split</th>\n",
       "    </tr>\n",
       "  </thead>\n",
       "  <tbody>\n",
       "    <tr>\n",
       "      <th>0</th>\n",
       "      <td>144703125000</td>\n",
       "      <td>17539344</td>\n",
       "      <td>sbi_atm_cum_debit_card</td>\n",
       "      <td>47334</td>\n",
       "      <td>cat_1</td>\n",
       "      <td>IND_INR</td>\n",
       "      <td>android_devices</td>\n",
       "      <td>-5.0</td>\n",
       "      <td>2016-11-15 19:16:12+00:00</td>\n",
       "      <td>2</td>\n",
       "      <td>0</td>\n",
       "      <td>train</td>\n",
       "    </tr>\n",
       "    <tr>\n",
       "      <th>1</th>\n",
       "      <td>77406814453032</td>\n",
       "      <td>24710841</td>\n",
       "      <td>e_wallet_payments</td>\n",
       "      <td>78890</td>\n",
       "      <td>cat_2</td>\n",
       "      <td>IND_INR</td>\n",
       "      <td>other_pcs</td>\n",
       "      <td>100.0</td>\n",
       "      <td>2017-01-11 09:25:33+00:00</td>\n",
       "      <td>2</td>\n",
       "      <td>0</td>\n",
       "      <td>train</td>\n",
       "    </tr>\n",
       "    <tr>\n",
       "      <th>2</th>\n",
       "      <td>308929485482801</td>\n",
       "      <td>24265476</td>\n",
       "      <td>e_wallet_payments</td>\n",
       "      <td>78890</td>\n",
       "      <td>cat_2</td>\n",
       "      <td>IND_INR</td>\n",
       "      <td>other_pcs</td>\n",
       "      <td>50.0</td>\n",
       "      <td>2016-12-07 07:58:09+00:00</td>\n",
       "      <td>2</td>\n",
       "      <td>0</td>\n",
       "      <td>train</td>\n",
       "    </tr>\n",
       "    <tr>\n",
       "      <th>3</th>\n",
       "      <td>665270027747073</td>\n",
       "      <td>10240000</td>\n",
       "      <td>other_debit_cards</td>\n",
       "      <td>102557</td>\n",
       "      <td>cat_3</td>\n",
       "      <td>IND_INR</td>\n",
       "      <td>other_pcs</td>\n",
       "      <td>1000.0</td>\n",
       "      <td>2017-01-11 16:15:44+00:00</td>\n",
       "      <td>2</td>\n",
       "      <td>0</td>\n",
       "      <td>train</td>\n",
       "    </tr>\n",
       "    <tr>\n",
       "      <th>4</th>\n",
       "      <td>38276160171101</td>\n",
       "      <td>5880625</td>\n",
       "      <td>other_debit_cards</td>\n",
       "      <td>118335</td>\n",
       "      <td>cat_1</td>\n",
       "      <td>IND_INR</td>\n",
       "      <td>other_pcs</td>\n",
       "      <td>200.0</td>\n",
       "      <td>2016-11-16 17:04:42+00:00</td>\n",
       "      <td>2</td>\n",
       "      <td>0</td>\n",
       "      <td>train</td>\n",
       "    </tr>\n",
       "  </tbody>\n",
       "</table>\n",
       "</div>"
      ],
      "text/plain": [
       "   transaction_number   user_id          payment_method  partner_id  \\\n",
       "0        144703125000  17539344  sbi_atm_cum_debit_card       47334   \n",
       "1      77406814453032  24710841       e_wallet_payments       78890   \n",
       "2     308929485482801  24265476       e_wallet_payments       78890   \n",
       "3     665270027747073  10240000       other_debit_cards      102557   \n",
       "4      38276160171101   5880625       other_debit_cards      118335   \n",
       "\n",
       "  partner_category  country      device_type  money_transacted  \\\n",
       "0            cat_1  IND_INR  android_devices              -5.0   \n",
       "1            cat_2  IND_INR        other_pcs             100.0   \n",
       "2            cat_2  IND_INR        other_pcs              50.0   \n",
       "3            cat_3  IND_INR        other_pcs            1000.0   \n",
       "4            cat_1  IND_INR        other_pcs             200.0   \n",
       "\n",
       "      transaction_initiation  partner_pricing_category  is_fraud  split  \n",
       "0  2016-11-15 19:16:12+00:00                         2         0  train  \n",
       "1  2017-01-11 09:25:33+00:00                         2         0  train  \n",
       "2  2016-12-07 07:58:09+00:00                         2         0  train  \n",
       "3  2017-01-11 16:15:44+00:00                         2         0  train  \n",
       "4  2016-11-16 17:04:42+00:00                         2         0  train  "
      ]
     },
     "execution_count": 6,
     "metadata": {},
     "output_type": "execute_result"
    }
   ],
   "source": [
    "data.head()"
   ]
  },
  {
   "cell_type": "code",
   "execution_count": 7,
   "metadata": {},
   "outputs": [
    {
     "data": {
      "text/plain": [
       "transaction_number          95662\n",
       "user_id                      3742\n",
       "payment_method                  6\n",
       "partner_id                     23\n",
       "partner_category                9\n",
       "country                         1\n",
       "device_type                     4\n",
       "money_transacted             1676\n",
       "transaction_initiation      94556\n",
       "partner_pricing_category        4\n",
       "is_fraud                        2\n",
       "split                           2\n",
       "dtype: int64"
      ]
     },
     "execution_count": 7,
     "metadata": {},
     "output_type": "execute_result"
    }
   ],
   "source": [
    "data.nunique()"
   ]
  },
  {
   "cell_type": "code",
   "execution_count": 8,
   "metadata": {},
   "outputs": [
    {
     "name": "stdout",
     "output_type": "stream",
     "text": [
      "<class 'pandas.core.frame.DataFrame'>\n",
      "Int64Index: 95662 entries, 0 to 19132\n",
      "Data columns (total 12 columns):\n",
      " #   Column                    Non-Null Count  Dtype  \n",
      "---  ------                    --------------  -----  \n",
      " 0   transaction_number        95662 non-null  int64  \n",
      " 1   user_id                   95662 non-null  int64  \n",
      " 2   payment_method            95662 non-null  object \n",
      " 3   partner_id                95662 non-null  int64  \n",
      " 4   partner_category          95662 non-null  object \n",
      " 5   country                   95662 non-null  object \n",
      " 6   device_type               95662 non-null  object \n",
      " 7   money_transacted          95662 non-null  float64\n",
      " 8   transaction_initiation    95662 non-null  object \n",
      " 9   partner_pricing_category  95662 non-null  int64  \n",
      " 10  is_fraud                  95662 non-null  int64  \n",
      " 11  split                     95662 non-null  object \n",
      "dtypes: float64(1), int64(5), object(6)\n",
      "memory usage: 9.5+ MB\n"
     ]
    }
   ],
   "source": [
    "data.info()"
   ]
  },
  {
   "cell_type": "code",
   "execution_count": 9,
   "metadata": {},
   "outputs": [],
   "source": [
    "data['transaction_initiation'] = pd.to_datetime(data.transaction_initiation)"
   ]
  },
  {
   "cell_type": "code",
   "execution_count": 10,
   "metadata": {},
   "outputs": [],
   "source": [
    "data.sort_values(by=['transaction_initiation'],inplace=True)\n",
    "data.reset_index(drop=True,inplace=True)"
   ]
  },
  {
   "cell_type": "code",
   "execution_count": 11,
   "metadata": {},
   "outputs": [],
   "source": [
    "data['transaction_initiation_year'] = data['transaction_initiation'].dt.year\n",
    "data['transaction_initiation_month'] = data['transaction_initiation'].dt.month\n",
    "data['transaction_initiation_day'] = data['transaction_initiation'].dt.day\n",
    "data['transaction_initiation_hour'] = data['transaction_initiation'].dt.hour\n",
    "data['transaction_initiation_minute'] = data['transaction_initiation'].dt.minute\n",
    "data['transaction_initiation_second'] = data['transaction_initiation'].dt.second"
   ]
  },
  {
   "cell_type": "code",
   "execution_count": 12,
   "metadata": {},
   "outputs": [],
   "source": [
    "train_index = data[data.split==\"train\"].index\n",
    "test_index = data[data.split==\"test\"].index"
   ]
  },
  {
   "cell_type": "markdown",
   "metadata": {},
   "source": [
    "---"
   ]
  },
  {
   "cell_type": "markdown",
   "metadata": {},
   "source": [
    "## Binning days,hours,minutes and seconds "
   ]
  },
  {
   "cell_type": "code",
   "execution_count": 13,
   "metadata": {},
   "outputs": [],
   "source": [
    "bin = [0,7,14,21,31]\n",
    "day = pd.cut(data.transaction_initiation_day, bins = bin)"
   ]
  },
  {
   "cell_type": "code",
   "execution_count": 14,
   "metadata": {},
   "outputs": [],
   "source": [
    "bin = [-1,6,12,18,24]\n",
    "hour = pd.cut(data.transaction_initiation_hour, bins = bin)"
   ]
  },
  {
   "cell_type": "code",
   "execution_count": 15,
   "metadata": {},
   "outputs": [],
   "source": [
    "bin = [-1,15,30,45,60]\n",
    "minute = pd.cut(data.transaction_initiation_minute, bins = bin)"
   ]
  },
  {
   "cell_type": "code",
   "execution_count": 16,
   "metadata": {},
   "outputs": [],
   "source": [
    "bin = [-1,15,30,45,60]\n",
    "second = pd.cut(data.transaction_initiation_second, bins = bin)"
   ]
  },
  {
   "cell_type": "code",
   "execution_count": 17,
   "metadata": {},
   "outputs": [],
   "source": [
    "data.transaction_initiation_day = day\n",
    "data.transaction_initiation_hour = hour\n",
    "data.transaction_initiation_minute = minute\n",
    "data.transaction_initiation_second = second\n"
   ]
  },
  {
   "cell_type": "code",
   "execution_count": 18,
   "metadata": {},
   "outputs": [],
   "source": [
    "to_cat = [\"partner_pricing_category\",'transaction_initiation_month','transaction_initiation_year','transaction_initiation_day','transaction_initiation_hour','transaction_initiation_minute','transaction_initiation_second']\n",
    "data[to_cat] = data[to_cat].astype(\"O\")"
   ]
  },
  {
   "cell_type": "code",
   "execution_count": 19,
   "metadata": {},
   "outputs": [
    {
     "data": {
      "text/plain": [
       "0    0.997982\n",
       "1    0.002018\n",
       "Name: is_fraud, dtype: float64"
      ]
     },
     "execution_count": 19,
     "metadata": {},
     "output_type": "execute_result"
    }
   ],
   "source": [
    "data.is_fraud.value_counts(normalize=True)"
   ]
  },
  {
   "cell_type": "code",
   "execution_count": 20,
   "metadata": {},
   "outputs": [
    {
     "data": {
      "text/plain": [
       "partner_pricing_category  is_fraud\n",
       "0                         0             349\n",
       "                          1              36\n",
       "1                         0            1860\n",
       "                          1               7\n",
       "2                         0           79709\n",
       "                          1             139\n",
       "4                         0           13551\n",
       "                          1              11\n",
       "Name: is_fraud, dtype: int64"
      ]
     },
     "execution_count": 20,
     "metadata": {},
     "output_type": "execute_result"
    }
   ],
   "source": [
    "data.groupby(\"partner_pricing_category\")[\"is_fraud\"].value_counts()"
   ]
  },
  {
   "cell_type": "markdown",
   "metadata": {},
   "source": [
    "---"
   ]
  },
  {
   "cell_type": "markdown",
   "metadata": {},
   "source": [
    "## Data Visualization"
   ]
  },
  {
   "cell_type": "code",
   "execution_count": 21,
   "metadata": {},
   "outputs": [],
   "source": [
    "sns.set_style('darkgrid')\n",
    "sns.set_palette('Set2')"
   ]
  },
  {
   "cell_type": "code",
   "execution_count": 22,
   "metadata": {},
   "outputs": [],
   "source": [
    "temp = [col for col in data if data[col].nunique() < 10]\n",
    "temp.remove(\"country\")\n",
    "temp.remove(\"split\")\n",
    "temp += [\"money_transacted\"]"
   ]
  },
  {
   "cell_type": "code",
   "execution_count": 23,
   "metadata": {},
   "outputs": [],
   "source": [
    "data_viz = data[temp]"
   ]
  },
  {
   "cell_type": "code",
   "execution_count": 24,
   "metadata": {},
   "outputs": [
    {
     "name": "stderr",
     "output_type": "stream",
     "text": [
      "/tmp/ipykernel_10473/1693296136.py:1: SettingWithCopyWarning: \n",
      "A value is trying to be set on a copy of a slice from a DataFrame.\n",
      "Try using .loc[row_indexer,col_indexer] = value instead\n",
      "\n",
      "See the caveats in the documentation: https://pandas.pydata.org/pandas-docs/stable/user_guide/indexing.html#returning-a-view-versus-a-copy\n",
      "  data_viz.is_fraud = data_viz.is_fraud.astype(\"O\")\n"
     ]
    }
   ],
   "source": [
    "data_viz.is_fraud = data_viz.is_fraud.astype(\"O\")"
   ]
  },
  {
   "cell_type": "code",
   "execution_count": 25,
   "metadata": {},
   "outputs": [
    {
     "data": {
      "text/plain": [
       "<AxesSubplot: xlabel='is_fraud', ylabel='money_transacted'>"
      ]
     },
     "execution_count": 25,
     "metadata": {},
     "output_type": "execute_result"
    },
    {
     "data": {
      "image/png": "[encoded data removed]",
      "text/plain": [
       "<Figure size 640x480 with 1 Axes>"
      ]
     },
     "metadata": {},
     "output_type": "display_data"
    }
   ],
   "source": [
    "sns.boxplot(data=data,y=\"money_transacted\",x=\"is_fraud\")"
   ]
  },
  {
   "cell_type": "code",
   "execution_count": 26,
   "metadata": {},
   "outputs": [
    {
     "data": {
      "image/png": "[encoded data removed]",
      "text/plain": [
       "<Figure size 640x480 with 1 Axes>"
      ]
     },
     "metadata": {},
     "output_type": "display_data"
    }
   ],
   "source": [
    "ax = sns.barplot(data=data_viz,y=\"money_transacted\",x=\"partner_pricing_category\",errorbar=None)\n",
    "plt.xticks( rotation=45)\n",
    "plt.title(\"money_transacted vs partner_pricing_category\")\n",
    "ax.bar_label(ax.containers[0])\n",
    "plt.show()"
   ]
  },
  {
   "cell_type": "code",
   "execution_count": 27,
   "metadata": {},
   "outputs": [
    {
     "data": {
      "image/png": "[encoded data removed]",
      "text/plain": [
       "<Figure size 640x480 with 1 Axes>"
      ]
     },
     "metadata": {},
     "output_type": "display_data"
    }
   ],
   "source": [
    "ax = sns.barplot(data=data_viz,y=\"money_transacted\",x=\"device_type\",errorbar=None)\n",
    "plt.xticks( rotation=45)\n",
    "plt.title(\"money_transacted vs device_type\")\n",
    "ax.bar_label(ax.containers[0])\n",
    "plt.show()"
   ]
  },
  {
   "cell_type": "code",
   "execution_count": 28,
   "metadata": {},
   "outputs": [
    {
     "data": {
      "image/png": "[encoded data removed]",
      "text/plain": [
       "<Figure size 640x480 with 1 Axes>"
      ]
     },
     "metadata": {},
     "output_type": "display_data"
    }
   ],
   "source": [
    "ax = sns.barplot(data=data_viz,y=\"money_transacted\",x=\"partner_category\",errorbar=None)\n",
    "plt.xticks( rotation=45)\n",
    "plt.title(\"money_transacted vs partner_category\")\n",
    "ax.bar_label(ax.containers[0])\n",
    "plt.show()"
   ]
  },
  {
   "cell_type": "code",
   "execution_count": 29,
   "metadata": {},
   "outputs": [
    {
     "data": {
      "image/png": "[encoded data removed]",
      "text/plain": [
       "<Figure size 640x480 with 1 Axes>"
      ]
     },
     "metadata": {},
     "output_type": "display_data"
    }
   ],
   "source": [
    "ax = sns.barplot(data=data_viz,y=\"money_transacted\",x=\"payment_method\",errorbar=None)\n",
    "plt.xticks( rotation=45)\n",
    "plt.title(\"money_transacted vs payment_method\")\n",
    "ax.bar_label(ax.containers[0])\n",
    "plt.show()"
   ]
  },
  {
   "cell_type": "code",
   "execution_count": 30,
   "metadata": {},
   "outputs": [
    {
     "data": {
      "image/png": "[encoded data removed]",
      "text/plain": [
       "<Figure size 640x480 with 1 Axes>"
      ]
     },
     "metadata": {},
     "output_type": "display_data"
    }
   ],
   "source": [
    "ax = sns.barplot(data=data_viz,y=\"money_transacted\",x=\"transaction_initiation_month\",errorbar=None)\n",
    "plt.xticks( rotation=45)\n",
    "plt.title(\"money_transacted vs transaction_initiation_month\")\n",
    "ax.bar_label(ax.containers[0])\n",
    "plt.show()"
   ]
  },
  {
   "cell_type": "markdown",
   "metadata": {},
   "source": [
    "---"
   ]
  },
  {
   "cell_type": "markdown",
   "metadata": {},
   "source": [
    "## One hot encoding"
   ]
  },
  {
   "cell_type": "code",
   "execution_count": 31,
   "metadata": {},
   "outputs": [
    {
     "name": "stderr",
     "output_type": "stream",
     "text": [
      "/tmp/ipykernel_10473/3320875212.py:3: FutureWarning: In a future version, the Index constructor will not infer numeric dtypes when passed object-dtype sequences (matching Series behavior)\n",
      "  data = pd.get_dummies(data = data, columns=cols,prefix=cols,drop_first=True)\n"
     ]
    }
   ],
   "source": [
    "cols = ['payment_method','partner_category','device_type','partner_pricing_category','transaction_initiation_month','transaction_initiation_year','transaction_initiation_day',\n",
    "          'transaction_initiation_hour','transaction_initiation_minute','transaction_initiation_second']\n",
    "data = pd.get_dummies(data = data, columns=cols,prefix=cols,drop_first=True)"
   ]
  },
  {
   "cell_type": "markdown",
   "metadata": {},
   "source": [
    "---"
   ]
  },
  {
   "cell_type": "markdown",
   "metadata": {},
   "source": [
    "## Dropping columns"
   ]
  },
  {
   "cell_type": "code",
   "execution_count": 32,
   "metadata": {},
   "outputs": [],
   "source": [
    "data.drop(['country','transaction_number', 'user_id', 'partner_id',\"transaction_initiation\",\"split\"],axis=1,inplace=True)"
   ]
  },
  {
   "cell_type": "code",
   "execution_count": 33,
   "metadata": {},
   "outputs": [
    {
     "name": "stdout",
     "output_type": "stream",
     "text": [
      "<class 'pandas.core.frame.DataFrame'>\n",
      "RangeIndex: 95662 entries, 0 to 95661\n",
      "Data columns (total 37 columns):\n",
      " #   Column                                     Non-Null Count  Dtype  \n",
      "---  ------                                     --------------  -----  \n",
      " 0   money_transacted                           95662 non-null  float64\n",
      " 1   is_fraud                                   95662 non-null  int64  \n",
      " 2   payment_method_other_debit_cards           95662 non-null  uint8  \n",
      " 3   payment_method_sbi_atm_cum_debit_card      95662 non-null  uint8  \n",
      " 4   payment_method_unified_payments_interface  95662 non-null  uint8  \n",
      " 5   payment_method_visa_master_credit_cards    95662 non-null  uint8  \n",
      " 6   payment_method_visa_master_debit_cards     95662 non-null  uint8  \n",
      " 7   partner_category_cat_2                     95662 non-null  uint8  \n",
      " 8   partner_category_cat_3                     95662 non-null  uint8  \n",
      " 9   partner_category_cat_4                     95662 non-null  uint8  \n",
      " 10  partner_category_cat_5                     95662 non-null  uint8  \n",
      " 11  partner_category_cat_6                     95662 non-null  uint8  \n",
      " 12  partner_category_cat_7                     95662 non-null  uint8  \n",
      " 13  partner_category_cat_8                     95662 non-null  uint8  \n",
      " 14  partner_category_cat_9                     95662 non-null  uint8  \n",
      " 15  device_type_ios_devices                    95662 non-null  uint8  \n",
      " 16  device_type_other_pcs                      95662 non-null  uint8  \n",
      " 17  device_type_windows_pcs                    95662 non-null  uint8  \n",
      " 18  partner_pricing_category_1                 95662 non-null  uint8  \n",
      " 19  partner_pricing_category_2                 95662 non-null  uint8  \n",
      " 20  partner_pricing_category_4                 95662 non-null  uint8  \n",
      " 21  transaction_initiation_month_2             95662 non-null  uint8  \n",
      " 22  transaction_initiation_month_11            95662 non-null  uint8  \n",
      " 23  transaction_initiation_month_12            95662 non-null  uint8  \n",
      " 24  transaction_initiation_year_2017           95662 non-null  uint8  \n",
      " 25  transaction_initiation_day_(7, 14]         95662 non-null  uint8  \n",
      " 26  transaction_initiation_day_(14, 21]        95662 non-null  uint8  \n",
      " 27  transaction_initiation_day_(21, 31]        95662 non-null  uint8  \n",
      " 28  transaction_initiation_hour_(6, 12]        95662 non-null  uint8  \n",
      " 29  transaction_initiation_hour_(12, 18]       95662 non-null  uint8  \n",
      " 30  transaction_initiation_hour_(18, 24]       95662 non-null  uint8  \n",
      " 31  transaction_initiation_minute_(15, 30]     95662 non-null  uint8  \n",
      " 32  transaction_initiation_minute_(30, 45]     95662 non-null  uint8  \n",
      " 33  transaction_initiation_minute_(45, 60]     95662 non-null  uint8  \n",
      " 34  transaction_initiation_second_(15, 30]     95662 non-null  uint8  \n",
      " 35  transaction_initiation_second_(30, 45]     95662 non-null  uint8  \n",
      " 36  transaction_initiation_second_(45, 60]     95662 non-null  uint8  \n",
      "dtypes: float64(1), int64(1), uint8(35)\n",
      "memory usage: 4.7 MB\n"
     ]
    }
   ],
   "source": [
    "data.info()"
   ]
  },
  {
   "cell_type": "code",
   "execution_count": 34,
   "metadata": {},
   "outputs": [],
   "source": [
    "uint8_cols = data.select_dtypes(include=[\"uint8\"]).columns"
   ]
  },
  {
   "cell_type": "code",
   "execution_count": 35,
   "metadata": {},
   "outputs": [],
   "source": [
    "for i in range(len(uint8_cols)):\n",
    "    data[uint8_cols[i]] = data[uint8_cols[i]].astype('int64')"
   ]
  },
  {
   "cell_type": "code",
   "execution_count": 36,
   "metadata": {},
   "outputs": [],
   "source": [
    "old_data = data.copy()"
   ]
  },
  {
   "cell_type": "markdown",
   "metadata": {},
   "source": [
    "---"
   ]
  },
  {
   "cell_type": "markdown",
   "metadata": {},
   "source": [
    "## Checking VIF to drop correlated columns"
   ]
  },
  {
   "cell_type": "code",
   "execution_count": 37,
   "metadata": {},
   "outputs": [],
   "source": [
    "def calc_vif(X):\n",
    "  vif = pd.DataFrame()\n",
    "  vif[\"var\"] = X.columns\n",
    "  vif[\"VIF\"] = [variance_inflation_factor(X.values,i) for i in range(X.shape[1])]\n",
    "  vif.sort_values(by=['VIF'],ascending=False,inplace=True)\n",
    "  return vif"
   ]
  },
  {
   "cell_type": "code",
   "execution_count": 38,
   "metadata": {},
   "outputs": [
    {
     "name": "stderr",
     "output_type": "stream",
     "text": [
      "/home/nox/miniconda3/envs/prog/lib/python3.10/site-packages/statsmodels/stats/outliers_influence.py:198: RuntimeWarning: divide by zero encountered in scalar divide\n",
      "  vif = 1. / (1. - r_squared_i)\n"
     ]
    },
    {
     "data": {
      "text/html": [
       "<div>\n",
       "<style scoped>\n",
       "    .dataframe tbody tr th:only-of-type {\n",
       "        vertical-align: middle;\n",
       "    }\n",
       "\n",
       "    .dataframe tbody tr th {\n",
       "        vertical-align: top;\n",
       "    }\n",
       "\n",
       "    .dataframe thead th {\n",
       "        text-align: right;\n",
       "    }\n",
       "</style>\n",
       "<table border=\"1\" class=\"dataframe\">\n",
       "  <thead>\n",
       "    <tr style=\"text-align: right;\">\n",
       "      <th></th>\n",
       "      <th>var</th>\n",
       "      <th>VIF</th>\n",
       "    </tr>\n",
       "  </thead>\n",
       "  <tbody>\n",
       "    <tr>\n",
       "      <th>2</th>\n",
       "      <td>payment_method_sbi_atm_cum_debit_card</td>\n",
       "      <td>inf</td>\n",
       "    </tr>\n",
       "    <tr>\n",
       "      <th>23</th>\n",
       "      <td>transaction_initiation_year_2017</td>\n",
       "      <td>inf</td>\n",
       "    </tr>\n",
       "    <tr>\n",
       "      <th>22</th>\n",
       "      <td>transaction_initiation_month_12</td>\n",
       "      <td>inf</td>\n",
       "    </tr>\n",
       "    <tr>\n",
       "      <th>21</th>\n",
       "      <td>transaction_initiation_month_11</td>\n",
       "      <td>inf</td>\n",
       "    </tr>\n",
       "    <tr>\n",
       "      <th>16</th>\n",
       "      <td>device_type_windows_pcs</td>\n",
       "      <td>inf</td>\n",
       "    </tr>\n",
       "    <tr>\n",
       "      <th>15</th>\n",
       "      <td>device_type_other_pcs</td>\n",
       "      <td>inf</td>\n",
       "    </tr>\n",
       "    <tr>\n",
       "      <th>19</th>\n",
       "      <td>partner_pricing_category_4</td>\n",
       "      <td>38.686371</td>\n",
       "    </tr>\n",
       "    <tr>\n",
       "      <th>18</th>\n",
       "      <td>partner_pricing_category_2</td>\n",
       "      <td>36.491284</td>\n",
       "    </tr>\n",
       "    <tr>\n",
       "      <th>6</th>\n",
       "      <td>partner_category_cat_2</td>\n",
       "      <td>19.747222</td>\n",
       "    </tr>\n",
       "    <tr>\n",
       "      <th>5</th>\n",
       "      <td>payment_method_visa_master_debit_cards</td>\n",
       "      <td>10.096090</td>\n",
       "    </tr>\n",
       "    <tr>\n",
       "      <th>17</th>\n",
       "      <td>partner_pricing_category_1</td>\n",
       "      <td>7.948873</td>\n",
       "    </tr>\n",
       "    <tr>\n",
       "      <th>1</th>\n",
       "      <td>payment_method_other_debit_cards</td>\n",
       "      <td>4.897719</td>\n",
       "    </tr>\n",
       "    <tr>\n",
       "      <th>4</th>\n",
       "      <td>payment_method_visa_master_credit_cards</td>\n",
       "      <td>4.874935</td>\n",
       "    </tr>\n",
       "    <tr>\n",
       "      <th>28</th>\n",
       "      <td>transaction_initiation_hour_(12, 18]</td>\n",
       "      <td>2.358453</td>\n",
       "    </tr>\n",
       "    <tr>\n",
       "      <th>27</th>\n",
       "      <td>transaction_initiation_hour_(6, 12]</td>\n",
       "      <td>2.337904</td>\n",
       "    </tr>\n",
       "    <tr>\n",
       "      <th>8</th>\n",
       "      <td>partner_category_cat_4</td>\n",
       "      <td>2.279928</td>\n",
       "    </tr>\n",
       "    <tr>\n",
       "      <th>26</th>\n",
       "      <td>transaction_initiation_day_(21, 31]</td>\n",
       "      <td>2.237005</td>\n",
       "    </tr>\n",
       "    <tr>\n",
       "      <th>25</th>\n",
       "      <td>transaction_initiation_day_(14, 21]</td>\n",
       "      <td>2.014789</td>\n",
       "    </tr>\n",
       "    <tr>\n",
       "      <th>7</th>\n",
       "      <td>partner_category_cat_3</td>\n",
       "      <td>1.705372</td>\n",
       "    </tr>\n",
       "    <tr>\n",
       "      <th>24</th>\n",
       "      <td>transaction_initiation_day_(7, 14]</td>\n",
       "      <td>1.629281</td>\n",
       "    </tr>\n",
       "    <tr>\n",
       "      <th>20</th>\n",
       "      <td>transaction_initiation_month_2</td>\n",
       "      <td>1.623356</td>\n",
       "    </tr>\n",
       "    <tr>\n",
       "      <th>29</th>\n",
       "      <td>transaction_initiation_hour_(18, 24]</td>\n",
       "      <td>1.616626</td>\n",
       "    </tr>\n",
       "    <tr>\n",
       "      <th>9</th>\n",
       "      <td>partner_category_cat_5</td>\n",
       "      <td>1.609227</td>\n",
       "    </tr>\n",
       "    <tr>\n",
       "      <th>33</th>\n",
       "      <td>transaction_initiation_second_(15, 30]</td>\n",
       "      <td>1.458434</td>\n",
       "    </tr>\n",
       "    <tr>\n",
       "      <th>34</th>\n",
       "      <td>transaction_initiation_second_(30, 45]</td>\n",
       "      <td>1.457092</td>\n",
       "    </tr>\n",
       "    <tr>\n",
       "      <th>30</th>\n",
       "      <td>transaction_initiation_minute_(15, 30]</td>\n",
       "      <td>1.456213</td>\n",
       "    </tr>\n",
       "    <tr>\n",
       "      <th>31</th>\n",
       "      <td>transaction_initiation_minute_(30, 45]</td>\n",
       "      <td>1.455712</td>\n",
       "    </tr>\n",
       "    <tr>\n",
       "      <th>32</th>\n",
       "      <td>transaction_initiation_minute_(45, 60]</td>\n",
       "      <td>1.445365</td>\n",
       "    </tr>\n",
       "    <tr>\n",
       "      <th>35</th>\n",
       "      <td>transaction_initiation_second_(45, 60]</td>\n",
       "      <td>1.442131</td>\n",
       "    </tr>\n",
       "    <tr>\n",
       "      <th>11</th>\n",
       "      <td>partner_category_cat_7</td>\n",
       "      <td>1.161217</td>\n",
       "    </tr>\n",
       "    <tr>\n",
       "      <th>14</th>\n",
       "      <td>device_type_ios_devices</td>\n",
       "      <td>1.114250</td>\n",
       "    </tr>\n",
       "    <tr>\n",
       "      <th>0</th>\n",
       "      <td>money_transacted</td>\n",
       "      <td>1.040319</td>\n",
       "    </tr>\n",
       "    <tr>\n",
       "      <th>10</th>\n",
       "      <td>partner_category_cat_6</td>\n",
       "      <td>1.034490</td>\n",
       "    </tr>\n",
       "    <tr>\n",
       "      <th>12</th>\n",
       "      <td>partner_category_cat_8</td>\n",
       "      <td>1.002870</td>\n",
       "    </tr>\n",
       "    <tr>\n",
       "      <th>13</th>\n",
       "      <td>partner_category_cat_9</td>\n",
       "      <td>1.002841</td>\n",
       "    </tr>\n",
       "    <tr>\n",
       "      <th>3</th>\n",
       "      <td>payment_method_unified_payments_interface</td>\n",
       "      <td>1.000709</td>\n",
       "    </tr>\n",
       "  </tbody>\n",
       "</table>\n",
       "</div>"
      ],
      "text/plain": [
       "                                          var        VIF\n",
       "2       payment_method_sbi_atm_cum_debit_card        inf\n",
       "23           transaction_initiation_year_2017        inf\n",
       "22            transaction_initiation_month_12        inf\n",
       "21            transaction_initiation_month_11        inf\n",
       "16                    device_type_windows_pcs        inf\n",
       "15                      device_type_other_pcs        inf\n",
       "19                 partner_pricing_category_4  38.686371\n",
       "18                 partner_pricing_category_2  36.491284\n",
       "6                      partner_category_cat_2  19.747222\n",
       "5      payment_method_visa_master_debit_cards  10.096090\n",
       "17                 partner_pricing_category_1   7.948873\n",
       "1            payment_method_other_debit_cards   4.897719\n",
       "4     payment_method_visa_master_credit_cards   4.874935\n",
       "28       transaction_initiation_hour_(12, 18]   2.358453\n",
       "27        transaction_initiation_hour_(6, 12]   2.337904\n",
       "8                      partner_category_cat_4   2.279928\n",
       "26        transaction_initiation_day_(21, 31]   2.237005\n",
       "25        transaction_initiation_day_(14, 21]   2.014789\n",
       "7                      partner_category_cat_3   1.705372\n",
       "24         transaction_initiation_day_(7, 14]   1.629281\n",
       "20             transaction_initiation_month_2   1.623356\n",
       "29       transaction_initiation_hour_(18, 24]   1.616626\n",
       "9                      partner_category_cat_5   1.609227\n",
       "33     transaction_initiation_second_(15, 30]   1.458434\n",
       "34     transaction_initiation_second_(30, 45]   1.457092\n",
       "30     transaction_initiation_minute_(15, 30]   1.456213\n",
       "31     transaction_initiation_minute_(30, 45]   1.455712\n",
       "32     transaction_initiation_minute_(45, 60]   1.445365\n",
       "35     transaction_initiation_second_(45, 60]   1.442131\n",
       "11                     partner_category_cat_7   1.161217\n",
       "14                    device_type_ios_devices   1.114250\n",
       "0                            money_transacted   1.040319\n",
       "10                     partner_category_cat_6   1.034490\n",
       "12                     partner_category_cat_8   1.002870\n",
       "13                     partner_category_cat_9   1.002841\n",
       "3   payment_method_unified_payments_interface   1.000709"
      ]
     },
     "execution_count": 38,
     "metadata": {},
     "output_type": "execute_result"
    }
   ],
   "source": [
    "X = data.drop('is_fraud',axis=1)\n",
    "calc_vif(X)"
   ]
  },
  {
   "cell_type": "code",
   "execution_count": 39,
   "metadata": {},
   "outputs": [
    {
     "data": {
      "text/html": [
       "<div>\n",
       "<style scoped>\n",
       "    .dataframe tbody tr th:only-of-type {\n",
       "        vertical-align: middle;\n",
       "    }\n",
       "\n",
       "    .dataframe tbody tr th {\n",
       "        vertical-align: top;\n",
       "    }\n",
       "\n",
       "    .dataframe thead th {\n",
       "        text-align: right;\n",
       "    }\n",
       "</style>\n",
       "<table border=\"1\" class=\"dataframe\">\n",
       "  <thead>\n",
       "    <tr style=\"text-align: right;\">\n",
       "      <th></th>\n",
       "      <th>var</th>\n",
       "      <th>VIF</th>\n",
       "    </tr>\n",
       "  </thead>\n",
       "  <tbody>\n",
       "    <tr>\n",
       "      <th>24</th>\n",
       "      <td>transaction_initiation_hour_(12, 18]</td>\n",
       "      <td>2.865015</td>\n",
       "    </tr>\n",
       "    <tr>\n",
       "      <th>23</th>\n",
       "      <td>transaction_initiation_hour_(6, 12]</td>\n",
       "      <td>2.757106</td>\n",
       "    </tr>\n",
       "    <tr>\n",
       "      <th>15</th>\n",
       "      <td>partner_pricing_category_1</td>\n",
       "      <td>2.643132</td>\n",
       "    </tr>\n",
       "    <tr>\n",
       "      <th>3</th>\n",
       "      <td>payment_method_visa_master_credit_cards</td>\n",
       "      <td>2.631992</td>\n",
       "    </tr>\n",
       "    <tr>\n",
       "      <th>22</th>\n",
       "      <td>transaction_initiation_day_(21, 31]</td>\n",
       "      <td>2.611443</td>\n",
       "    </tr>\n",
       "    <tr>\n",
       "      <th>5</th>\n",
       "      <td>partner_category_cat_2</td>\n",
       "      <td>2.562426</td>\n",
       "    </tr>\n",
       "    <tr>\n",
       "      <th>21</th>\n",
       "      <td>transaction_initiation_day_(14, 21]</td>\n",
       "      <td>2.139023</td>\n",
       "    </tr>\n",
       "    <tr>\n",
       "      <th>16</th>\n",
       "      <td>partner_pricing_category_4</td>\n",
       "      <td>2.067255</td>\n",
       "    </tr>\n",
       "    <tr>\n",
       "      <th>19</th>\n",
       "      <td>transaction_initiation_month_12</td>\n",
       "      <td>1.932371</td>\n",
       "    </tr>\n",
       "    <tr>\n",
       "      <th>20</th>\n",
       "      <td>transaction_initiation_day_(7, 14]</td>\n",
       "      <td>1.820599</td>\n",
       "    </tr>\n",
       "    <tr>\n",
       "      <th>30</th>\n",
       "      <td>transaction_initiation_second_(30, 45]</td>\n",
       "      <td>1.783812</td>\n",
       "    </tr>\n",
       "    <tr>\n",
       "      <th>29</th>\n",
       "      <td>transaction_initiation_second_(15, 30]</td>\n",
       "      <td>1.781504</td>\n",
       "    </tr>\n",
       "    <tr>\n",
       "      <th>26</th>\n",
       "      <td>transaction_initiation_minute_(15, 30]</td>\n",
       "      <td>1.777648</td>\n",
       "    </tr>\n",
       "    <tr>\n",
       "      <th>27</th>\n",
       "      <td>transaction_initiation_minute_(30, 45]</td>\n",
       "      <td>1.758155</td>\n",
       "    </tr>\n",
       "    <tr>\n",
       "      <th>31</th>\n",
       "      <td>transaction_initiation_second_(45, 60]</td>\n",
       "      <td>1.732426</td>\n",
       "    </tr>\n",
       "    <tr>\n",
       "      <th>28</th>\n",
       "      <td>transaction_initiation_minute_(45, 60]</td>\n",
       "      <td>1.713934</td>\n",
       "    </tr>\n",
       "    <tr>\n",
       "      <th>17</th>\n",
       "      <td>transaction_initiation_month_2</td>\n",
       "      <td>1.655928</td>\n",
       "    </tr>\n",
       "    <tr>\n",
       "      <th>4</th>\n",
       "      <td>payment_method_visa_master_debit_cards</td>\n",
       "      <td>1.540509</td>\n",
       "    </tr>\n",
       "    <tr>\n",
       "      <th>25</th>\n",
       "      <td>transaction_initiation_hour_(18, 24]</td>\n",
       "      <td>1.527671</td>\n",
       "    </tr>\n",
       "    <tr>\n",
       "      <th>18</th>\n",
       "      <td>transaction_initiation_month_11</td>\n",
       "      <td>1.492060</td>\n",
       "    </tr>\n",
       "    <tr>\n",
       "      <th>1</th>\n",
       "      <td>payment_method_other_debit_cards</td>\n",
       "      <td>1.185065</td>\n",
       "    </tr>\n",
       "    <tr>\n",
       "      <th>13</th>\n",
       "      <td>device_type_ios_devices</td>\n",
       "      <td>1.110331</td>\n",
       "    </tr>\n",
       "    <tr>\n",
       "      <th>6</th>\n",
       "      <td>partner_category_cat_3</td>\n",
       "      <td>1.055692</td>\n",
       "    </tr>\n",
       "    <tr>\n",
       "      <th>7</th>\n",
       "      <td>partner_category_cat_4</td>\n",
       "      <td>1.052411</td>\n",
       "    </tr>\n",
       "    <tr>\n",
       "      <th>8</th>\n",
       "      <td>partner_category_cat_5</td>\n",
       "      <td>1.030695</td>\n",
       "    </tr>\n",
       "    <tr>\n",
       "      <th>0</th>\n",
       "      <td>money_transacted</td>\n",
       "      <td>1.025743</td>\n",
       "    </tr>\n",
       "    <tr>\n",
       "      <th>10</th>\n",
       "      <td>partner_category_cat_7</td>\n",
       "      <td>1.022075</td>\n",
       "    </tr>\n",
       "    <tr>\n",
       "      <th>14</th>\n",
       "      <td>device_type_windows_pcs</td>\n",
       "      <td>1.017437</td>\n",
       "    </tr>\n",
       "    <tr>\n",
       "      <th>9</th>\n",
       "      <td>partner_category_cat_6</td>\n",
       "      <td>1.007754</td>\n",
       "    </tr>\n",
       "    <tr>\n",
       "      <th>11</th>\n",
       "      <td>partner_category_cat_8</td>\n",
       "      <td>1.002083</td>\n",
       "    </tr>\n",
       "    <tr>\n",
       "      <th>12</th>\n",
       "      <td>partner_category_cat_9</td>\n",
       "      <td>1.001428</td>\n",
       "    </tr>\n",
       "    <tr>\n",
       "      <th>2</th>\n",
       "      <td>payment_method_unified_payments_interface</td>\n",
       "      <td>1.000891</td>\n",
       "    </tr>\n",
       "  </tbody>\n",
       "</table>\n",
       "</div>"
      ],
      "text/plain": [
       "                                          var       VIF\n",
       "24       transaction_initiation_hour_(12, 18]  2.865015\n",
       "23        transaction_initiation_hour_(6, 12]  2.757106\n",
       "15                 partner_pricing_category_1  2.643132\n",
       "3     payment_method_visa_master_credit_cards  2.631992\n",
       "22        transaction_initiation_day_(21, 31]  2.611443\n",
       "5                      partner_category_cat_2  2.562426\n",
       "21        transaction_initiation_day_(14, 21]  2.139023\n",
       "16                 partner_pricing_category_4  2.067255\n",
       "19            transaction_initiation_month_12  1.932371\n",
       "20         transaction_initiation_day_(7, 14]  1.820599\n",
       "30     transaction_initiation_second_(30, 45]  1.783812\n",
       "29     transaction_initiation_second_(15, 30]  1.781504\n",
       "26     transaction_initiation_minute_(15, 30]  1.777648\n",
       "27     transaction_initiation_minute_(30, 45]  1.758155\n",
       "31     transaction_initiation_second_(45, 60]  1.732426\n",
       "28     transaction_initiation_minute_(45, 60]  1.713934\n",
       "17             transaction_initiation_month_2  1.655928\n",
       "4      payment_method_visa_master_debit_cards  1.540509\n",
       "25       transaction_initiation_hour_(18, 24]  1.527671\n",
       "18            transaction_initiation_month_11  1.492060\n",
       "1            payment_method_other_debit_cards  1.185065\n",
       "13                    device_type_ios_devices  1.110331\n",
       "6                      partner_category_cat_3  1.055692\n",
       "7                      partner_category_cat_4  1.052411\n",
       "8                      partner_category_cat_5  1.030695\n",
       "0                            money_transacted  1.025743\n",
       "10                     partner_category_cat_7  1.022075\n",
       "14                    device_type_windows_pcs  1.017437\n",
       "9                      partner_category_cat_6  1.007754\n",
       "11                     partner_category_cat_8  1.002083\n",
       "12                     partner_category_cat_9  1.001428\n",
       "2   payment_method_unified_payments_interface  1.000891"
      ]
     },
     "execution_count": 39,
     "metadata": {},
     "output_type": "execute_result"
    }
   ],
   "source": [
    "X = data.drop(['is_fraud','payment_method_sbi_atm_cum_debit_card','transaction_initiation_year_2017','device_type_other_pcs','partner_pricing_category_2'],axis=1)\n",
    "calc_vif(X)"
   ]
  },
  {
   "cell_type": "code",
   "execution_count": 40,
   "metadata": {},
   "outputs": [],
   "source": [
    "data.drop(['payment_method_sbi_atm_cum_debit_card','transaction_initiation_year_2017','device_type_other_pcs','partner_pricing_category_2'],axis=True,inplace=True)"
   ]
  },
  {
   "cell_type": "markdown",
   "metadata": {},
   "source": [
    "---"
   ]
  },
  {
   "cell_type": "markdown",
   "metadata": {},
   "source": [
    "# Model Building"
   ]
  },
  {
   "cell_type": "code",
   "execution_count": 41,
   "metadata": {},
   "outputs": [],
   "source": [
    "df = data.sample(frac = 1)\n",
    "\n",
    "X = df.drop('is_fraud', axis=1)\n",
    "y = df['is_fraud']\n"
   ]
  },
  {
   "cell_type": "code",
   "execution_count": 42,
   "metadata": {},
   "outputs": [],
   "source": [
    "train = data.iloc[train_index]\n",
    "test = data.iloc[test_index]"
   ]
  },
  {
   "cell_type": "code",
   "execution_count": 43,
   "metadata": {},
   "outputs": [
    {
     "name": "stdout",
     "output_type": "stream",
     "text": [
      "(76529, 32)\n",
      "(19133, 32)\n",
      "(76529,)\n",
      "(19133,)\n"
     ]
    }
   ],
   "source": [
    "\n",
    "X_train = train.drop('is_fraud',axis=1)\n",
    "X_test = test.drop('is_fraud',axis=1)\n",
    "y_train = train.is_fraud\n",
    "y_test = test.is_fraud\n",
    "\n",
    "print(X_train.shape)\n",
    "print(X_test.shape)\n",
    "print(y_train.shape)\n",
    "print(y_test.shape)"
   ]
  },
  {
   "cell_type": "code",
   "execution_count": 44,
   "metadata": {},
   "outputs": [
    {
     "name": "stdout",
     "output_type": "stream",
     "text": [
      "<class 'pandas.core.frame.DataFrame'>\n",
      "Int64Index: 76529 entries, 0 to 95661\n",
      "Data columns (total 32 columns):\n",
      " #   Column                                     Non-Null Count  Dtype  \n",
      "---  ------                                     --------------  -----  \n",
      " 0   money_transacted                           76529 non-null  float64\n",
      " 1   payment_method_other_debit_cards           76529 non-null  int64  \n",
      " 2   payment_method_unified_payments_interface  76529 non-null  int64  \n",
      " 3   payment_method_visa_master_credit_cards    76529 non-null  int64  \n",
      " 4   payment_method_visa_master_debit_cards     76529 non-null  int64  \n",
      " 5   partner_category_cat_2                     76529 non-null  int64  \n",
      " 6   partner_category_cat_3                     76529 non-null  int64  \n",
      " 7   partner_category_cat_4                     76529 non-null  int64  \n",
      " 8   partner_category_cat_5                     76529 non-null  int64  \n",
      " 9   partner_category_cat_6                     76529 non-null  int64  \n",
      " 10  partner_category_cat_7                     76529 non-null  int64  \n",
      " 11  partner_category_cat_8                     76529 non-null  int64  \n",
      " 12  partner_category_cat_9                     76529 non-null  int64  \n",
      " 13  device_type_ios_devices                    76529 non-null  int64  \n",
      " 14  device_type_windows_pcs                    76529 non-null  int64  \n",
      " 15  partner_pricing_category_1                 76529 non-null  int64  \n",
      " 16  partner_pricing_category_4                 76529 non-null  int64  \n",
      " 17  transaction_initiation_month_2             76529 non-null  int64  \n",
      " 18  transaction_initiation_month_11            76529 non-null  int64  \n",
      " 19  transaction_initiation_month_12            76529 non-null  int64  \n",
      " 20  transaction_initiation_day_(7, 14]         76529 non-null  int64  \n",
      " 21  transaction_initiation_day_(14, 21]        76529 non-null  int64  \n",
      " 22  transaction_initiation_day_(21, 31]        76529 non-null  int64  \n",
      " 23  transaction_initiation_hour_(6, 12]        76529 non-null  int64  \n",
      " 24  transaction_initiation_hour_(12, 18]       76529 non-null  int64  \n",
      " 25  transaction_initiation_hour_(18, 24]       76529 non-null  int64  \n",
      " 26  transaction_initiation_minute_(15, 30]     76529 non-null  int64  \n",
      " 27  transaction_initiation_minute_(30, 45]     76529 non-null  int64  \n",
      " 28  transaction_initiation_minute_(45, 60]     76529 non-null  int64  \n",
      " 29  transaction_initiation_second_(15, 30]     76529 non-null  int64  \n",
      " 30  transaction_initiation_second_(30, 45]     76529 non-null  int64  \n",
      " 31  transaction_initiation_second_(45, 60]     76529 non-null  int64  \n",
      "dtypes: float64(1), int64(31)\n",
      "memory usage: 19.3 MB\n"
     ]
    }
   ],
   "source": [
    "X_train.info()"
   ]
  },
  {
   "cell_type": "code",
   "execution_count": 45,
   "metadata": {},
   "outputs": [],
   "source": [
    "# scaling\n",
    "\n",
    "scaler = StandardScaler()\n",
    "\n",
    "cols = ['money_transacted']\n",
    "\n",
    "X_train[cols] = scaler.fit_transform(X_train[cols])\n",
    "X_test[cols]=scaler.transform(X_test[cols])"
   ]
  },
  {
   "cell_type": "markdown",
   "metadata": {},
   "source": [
    "-----------------\n"
   ]
  },
  {
   "cell_type": "markdown",
   "metadata": {},
   "source": [
    "# Logistic Regression"
   ]
  },
  {
   "cell_type": "code",
   "execution_count": 46,
   "metadata": {},
   "outputs": [
    {
     "data": {
      "text/html": [
       "<style>#sk-container-id-1 {color: black;}#sk-container-id-1 pre{padding: 0;}#sk-container-id-1 div.sk-toggleable {background-color: white;}#sk-container-id-1 label.sk-toggleable__label {cursor: pointer;display: block;width: 100%;margin-bottom: 0;padding: 0.3em;box-sizing: border-box;text-align: center;}#sk-container-id-1 label.sk-toggleable__label-arrow:before {content: \"▸\";float: left;margin-right: 0.25em;color: #696969;}#sk-container-id-1 label.sk-toggleable__label-arrow:hover:before {color: black;}#sk-container-id-1 div.sk-estimator:hover label.sk-toggleable__label-arrow:before {color: black;}#sk-container-id-1 div.sk-toggleable__content {max-height: 0;max-width: 0;overflow: hidden;text-align: left;background-color: #f0f8ff;}#sk-container-id-1 div.sk-toggleable__content pre {margin: 0.2em;color: black;border-radius: 0.25em;background-color: #f0f8ff;}#sk-container-id-1 input.sk-toggleable__control:checked~div.sk-toggleable__content {max-height: 200px;max-width: 100%;overflow: auto;}#sk-container-id-1 input.sk-toggleable__control:checked~label.sk-toggleable__label-arrow:before {content: \"▾\";}#sk-container-id-1 div.sk-estimator input.sk-toggleable__control:checked~label.sk-toggleable__label {background-color: #d4ebff;}#sk-container-id-1 div.sk-label input.sk-toggleable__control:checked~label.sk-toggleable__label {background-color: #d4ebff;}#sk-container-id-1 input.sk-hidden--visually {border: 0;clip: rect(1px 1px 1px 1px);clip: rect(1px, 1px, 1px, 1px);height: 1px;margin: -1px;overflow: hidden;padding: 0;position: absolute;width: 1px;}#sk-container-id-1 div.sk-estimator {font-family: monospace;background-color: #f0f8ff;border: 1px dotted black;border-radius: 0.25em;box-sizing: border-box;margin-bottom: 0.5em;}#sk-container-id-1 div.sk-estimator:hover {background-color: #d4ebff;}#sk-container-id-1 div.sk-parallel-item::after {content: \"\";width: 100%;border-bottom: 1px solid gray;flex-grow: 1;}#sk-container-id-1 div.sk-label:hover label.sk-toggleable__label {background-color: #d4ebff;}#sk-container-id-1 div.sk-serial::before {content: \"\";position: absolute;border-left: 1px solid gray;box-sizing: border-box;top: 0;bottom: 0;left: 50%;z-index: 0;}#sk-container-id-1 div.sk-serial {display: flex;flex-direction: column;align-items: center;background-color: white;padding-right: 0.2em;padding-left: 0.2em;position: relative;}#sk-container-id-1 div.sk-item {position: relative;z-index: 1;}#sk-container-id-1 div.sk-parallel {display: flex;align-items: stretch;justify-content: center;background-color: white;position: relative;}#sk-container-id-1 div.sk-item::before, #sk-container-id-1 div.sk-parallel-item::before {content: \"\";position: absolute;border-left: 1px solid gray;box-sizing: border-box;top: 0;bottom: 0;left: 50%;z-index: -1;}#sk-container-id-1 div.sk-parallel-item {display: flex;flex-direction: column;z-index: 1;position: relative;background-color: white;}#sk-container-id-1 div.sk-parallel-item:first-child::after {align-self: flex-end;width: 50%;}#sk-container-id-1 div.sk-parallel-item:last-child::after {align-self: flex-start;width: 50%;}#sk-container-id-1 div.sk-parallel-item:only-child::after {width: 0;}#sk-container-id-1 div.sk-dashed-wrapped {border: 1px dashed gray;margin: 0 0.4em 0.5em 0.4em;box-sizing: border-box;padding-bottom: 0.4em;background-color: white;}#sk-container-id-1 div.sk-label label {font-family: monospace;font-weight: bold;display: inline-block;line-height: 1.2em;}#sk-container-id-1 div.sk-label-container {text-align: center;}#sk-container-id-1 div.sk-container {/* jupyter's `normalize.less` sets `[hidden] { display: none; }` but bootstrap.min.css set `[hidden] { display: none !important; }` so we also need the `!important` here to be able to override the default hidden behavior on the sphinx rendered scikit-learn.org. See: https://github.com/scikit-learn/scikit-learn/issues/21755 */display: inline-block !important;position: relative;}#sk-container-id-1 div.sk-text-repr-fallback {display: none;}</style><div id=\"sk-container-id-1\" class=\"sk-top-container\"><div class=\"sk-text-repr-fallback\"><pre>LogisticRegression(max_iter=600)</pre><b>In a Jupyter environment, please rerun this cell to show the HTML representation or trust the notebook. <br />On GitHub, the HTML representation is unable to render, please try loading this page with nbviewer.org.</b></div><div class=\"sk-container\" hidden><div class=\"sk-item\"><div class=\"sk-estimator sk-toggleable\"><input class=\"sk-toggleable__control sk-hidden--visually\" id=\"sk-estimator-id-1\" type=\"checkbox\" checked><label for=\"sk-estimator-id-1\" class=\"sk-toggleable__label sk-toggleable__label-arrow\">LogisticRegression</label><div class=\"sk-toggleable__content\"><pre>LogisticRegression(max_iter=600)</pre></div></div></div></div></div>"
      ],
      "text/plain": [
       "LogisticRegression(max_iter=600)"
      ]
     },
     "execution_count": 46,
     "metadata": {},
     "output_type": "execute_result"
    }
   ],
   "source": [
    "logistic_model = LogisticRegression(max_iter=600)\n",
    "\n",
    "logistic_model.fit(X_train,y_train)"
   ]
  },
  {
   "cell_type": "code",
   "execution_count": 47,
   "metadata": {},
   "outputs": [],
   "source": [
    "train_preds = logistic_model.predict(X_train)\n",
    "test_preds = logistic_model.predict(X_test)"
   ]
  },
  {
   "cell_type": "code",
   "execution_count": 48,
   "metadata": {},
   "outputs": [
    {
     "data": {
      "text/plain": [
       "array([[76349,    26],\n",
       "       [  105,    49]])"
      ]
     },
     "execution_count": 48,
     "metadata": {},
     "output_type": "execute_result"
    }
   ],
   "source": [
    "confusion_matrix(y_train,train_preds)"
   ]
  },
  {
   "cell_type": "code",
   "execution_count": 49,
   "metadata": {},
   "outputs": [],
   "source": [
    "train_accuracy_lr= accuracy_score(y_train,train_preds)\n",
    "train_recall_lr= recall_score(y_train,train_preds)\n",
    "train_precision_lr= precision_score(y_train,train_preds)\n",
    "train_f1_lr = f1_score(y_train,train_preds)\n",
    "\n",
    "test_accuracy_lr= accuracy_score(y_test,test_preds)\n",
    "test_recall_lr= recall_score(y_test,test_preds)\n",
    "test_precision_lr= precision_score(y_test,test_preds)\n",
    "test_f1_lr = f1_score(y_test,test_preds)\n"
   ]
  },
  {
   "cell_type": "code",
   "execution_count": 50,
   "metadata": {},
   "outputs": [],
   "source": [
    "model_performance = pd.DataFrame(np.array(['Logistic',train_accuracy_lr,train_recall_lr,train_precision_lr,train_f1_lr,\n",
    "                                           test_accuracy_lr,test_recall_lr,test_precision_lr,test_f1_lr]).reshape(1,9))\n",
    "\n",
    "model_performance.columns = ['Model','Train Accuracy','Train Recall','Train Precision','Train F1 Score',\n",
    "                             'Test Accuracy','Test Recall','Test Precision','Test F1 Score']"
   ]
  },
  {
   "cell_type": "code",
   "execution_count": 51,
   "metadata": {},
   "outputs": [
    {
     "data": {
      "text/html": [
       "<div>\n",
       "<style scoped>\n",
       "    .dataframe tbody tr th:only-of-type {\n",
       "        vertical-align: middle;\n",
       "    }\n",
       "\n",
       "    .dataframe tbody tr th {\n",
       "        vertical-align: top;\n",
       "    }\n",
       "\n",
       "    .dataframe thead th {\n",
       "        text-align: right;\n",
       "    }\n",
       "</style>\n",
       "<table border=\"1\" class=\"dataframe\">\n",
       "  <thead>\n",
       "    <tr style=\"text-align: right;\">\n",
       "      <th></th>\n",
       "      <th>Model</th>\n",
       "      <th>Train Accuracy</th>\n",
       "      <th>Train Recall</th>\n",
       "      <th>Train Precision</th>\n",
       "      <th>Train F1 Score</th>\n",
       "      <th>Test Accuracy</th>\n",
       "      <th>Test Recall</th>\n",
       "      <th>Test Precision</th>\n",
       "      <th>Test F1 Score</th>\n",
       "    </tr>\n",
       "  </thead>\n",
       "  <tbody>\n",
       "    <tr>\n",
       "      <th>0</th>\n",
       "      <td>Logistic</td>\n",
       "      <td>0.9982882306053914</td>\n",
       "      <td>0.3181818181818182</td>\n",
       "      <td>0.6533333333333333</td>\n",
       "      <td>0.42794759825327516</td>\n",
       "      <td>0.9982752312758062</td>\n",
       "      <td>0.3333333333333333</td>\n",
       "      <td>0.65</td>\n",
       "      <td>0.4406779661016949</td>\n",
       "    </tr>\n",
       "  </tbody>\n",
       "</table>\n",
       "</div>"
      ],
      "text/plain": [
       "      Model      Train Accuracy        Train Recall     Train Precision  \\\n",
       "0  Logistic  0.9982882306053914  0.3181818181818182  0.6533333333333333   \n",
       "\n",
       "        Train F1 Score       Test Accuracy         Test Recall Test Precision  \\\n",
       "0  0.42794759825327516  0.9982752312758062  0.3333333333333333           0.65   \n",
       "\n",
       "        Test F1 Score  \n",
       "0  0.4406779661016949  "
      ]
     },
     "execution_count": 51,
     "metadata": {},
     "output_type": "execute_result"
    }
   ],
   "source": [
    "model_performance"
   ]
  },
  {
   "cell_type": "markdown",
   "metadata": {},
   "source": [
    "---"
   ]
  },
  {
   "cell_type": "markdown",
   "metadata": {},
   "source": [
    "# Naive Bayes"
   ]
  },
  {
   "cell_type": "code",
   "execution_count": 52,
   "metadata": {},
   "outputs": [
    {
     "data": {
      "text/html": [
       "<style>#sk-container-id-2 {color: black;}#sk-container-id-2 pre{padding: 0;}#sk-container-id-2 div.sk-toggleable {background-color: white;}#sk-container-id-2 label.sk-toggleable__label {cursor: pointer;display: block;width: 100%;margin-bottom: 0;padding: 0.3em;box-sizing: border-box;text-align: center;}#sk-container-id-2 label.sk-toggleable__label-arrow:before {content: \"▸\";float: left;margin-right: 0.25em;color: #696969;}#sk-container-id-2 label.sk-toggleable__label-arrow:hover:before {color: black;}#sk-container-id-2 div.sk-estimator:hover label.sk-toggleable__label-arrow:before {color: black;}#sk-container-id-2 div.sk-toggleable__content {max-height: 0;max-width: 0;overflow: hidden;text-align: left;background-color: #f0f8ff;}#sk-container-id-2 div.sk-toggleable__content pre {margin: 0.2em;color: black;border-radius: 0.25em;background-color: #f0f8ff;}#sk-container-id-2 input.sk-toggleable__control:checked~div.sk-toggleable__content {max-height: 200px;max-width: 100%;overflow: auto;}#sk-container-id-2 input.sk-toggleable__control:checked~label.sk-toggleable__label-arrow:before {content: \"▾\";}#sk-container-id-2 div.sk-estimator input.sk-toggleable__control:checked~label.sk-toggleable__label {background-color: #d4ebff;}#sk-container-id-2 div.sk-label input.sk-toggleable__control:checked~label.sk-toggleable__label {background-color: #d4ebff;}#sk-container-id-2 input.sk-hidden--visually {border: 0;clip: rect(1px 1px 1px 1px);clip: rect(1px, 1px, 1px, 1px);height: 1px;margin: -1px;overflow: hidden;padding: 0;position: absolute;width: 1px;}#sk-container-id-2 div.sk-estimator {font-family: monospace;background-color: #f0f8ff;border: 1px dotted black;border-radius: 0.25em;box-sizing: border-box;margin-bottom: 0.5em;}#sk-container-id-2 div.sk-estimator:hover {background-color: #d4ebff;}#sk-container-id-2 div.sk-parallel-item::after {content: \"\";width: 100%;border-bottom: 1px solid gray;flex-grow: 1;}#sk-container-id-2 div.sk-label:hover label.sk-toggleable__label {background-color: #d4ebff;}#sk-container-id-2 div.sk-serial::before {content: \"\";position: absolute;border-left: 1px solid gray;box-sizing: border-box;top: 0;bottom: 0;left: 50%;z-index: 0;}#sk-container-id-2 div.sk-serial {display: flex;flex-direction: column;align-items: center;background-color: white;padding-right: 0.2em;padding-left: 0.2em;position: relative;}#sk-container-id-2 div.sk-item {position: relative;z-index: 1;}#sk-container-id-2 div.sk-parallel {display: flex;align-items: stretch;justify-content: center;background-color: white;position: relative;}#sk-container-id-2 div.sk-item::before, #sk-container-id-2 div.sk-parallel-item::before {content: \"\";position: absolute;border-left: 1px solid gray;box-sizing: border-box;top: 0;bottom: 0;left: 50%;z-index: -1;}#sk-container-id-2 div.sk-parallel-item {display: flex;flex-direction: column;z-index: 1;position: relative;background-color: white;}#sk-container-id-2 div.sk-parallel-item:first-child::after {align-self: flex-end;width: 50%;}#sk-container-id-2 div.sk-parallel-item:last-child::after {align-self: flex-start;width: 50%;}#sk-container-id-2 div.sk-parallel-item:only-child::after {width: 0;}#sk-container-id-2 div.sk-dashed-wrapped {border: 1px dashed gray;margin: 0 0.4em 0.5em 0.4em;box-sizing: border-box;padding-bottom: 0.4em;background-color: white;}#sk-container-id-2 div.sk-label label {font-family: monospace;font-weight: bold;display: inline-block;line-height: 1.2em;}#sk-container-id-2 div.sk-label-container {text-align: center;}#sk-container-id-2 div.sk-container {/* jupyter's `normalize.less` sets `[hidden] { display: none; }` but bootstrap.min.css set `[hidden] { display: none !important; }` so we also need the `!important` here to be able to override the default hidden behavior on the sphinx rendered scikit-learn.org. See: https://github.com/scikit-learn/scikit-learn/issues/21755 */display: inline-block !important;position: relative;}#sk-container-id-2 div.sk-text-repr-fallback {display: none;}</style><div id=\"sk-container-id-2\" class=\"sk-top-container\"><div class=\"sk-text-repr-fallback\"><pre>GaussianNB()</pre><b>In a Jupyter environment, please rerun this cell to show the HTML representation or trust the notebook. <br />On GitHub, the HTML representation is unable to render, please try loading this page with nbviewer.org.</b></div><div class=\"sk-container\" hidden><div class=\"sk-item\"><div class=\"sk-estimator sk-toggleable\"><input class=\"sk-toggleable__control sk-hidden--visually\" id=\"sk-estimator-id-2\" type=\"checkbox\" checked><label for=\"sk-estimator-id-2\" class=\"sk-toggleable__label sk-toggleable__label-arrow\">GaussianNB</label><div class=\"sk-toggleable__content\"><pre>GaussianNB()</pre></div></div></div></div></div>"
      ],
      "text/plain": [
       "GaussianNB()"
      ]
     },
     "execution_count": 52,
     "metadata": {},
     "output_type": "execute_result"
    }
   ],
   "source": [
    "# Build a Gaussian Classifier\n",
    "nb_model = GaussianNB()\n",
    "\n",
    "# nb_model training\n",
    "nb_model.fit(X_train, y_train)"
   ]
  },
  {
   "cell_type": "code",
   "execution_count": 53,
   "metadata": {},
   "outputs": [],
   "source": [
    "train_preds = nb_model.predict(X_train)\n",
    "test_preds = nb_model.predict(X_test)"
   ]
  },
  {
   "cell_type": "code",
   "execution_count": 54,
   "metadata": {},
   "outputs": [
    {
     "data": {
      "text/plain": [
       "array([[ 3438, 72937],\n",
       "       [    0,   154]])"
      ]
     },
     "execution_count": 54,
     "metadata": {},
     "output_type": "execute_result"
    }
   ],
   "source": [
    "confusion_matrix(y_train,train_preds)"
   ]
  },
  {
   "cell_type": "code",
   "execution_count": 55,
   "metadata": {},
   "outputs": [],
   "source": [
    "train_accuracy_1= accuracy_score(y_train,train_preds)\n",
    "train_recall_1= recall_score(y_train,train_preds)\n",
    "train_precision_1= precision_score(y_train,train_preds)\n",
    "train_f1 = f1_score(y_train,train_preds)\n",
    "\n",
    "test_accuracy_1= accuracy_score(y_test,test_preds)\n",
    "test_recall_1= recall_score(y_test,test_preds)\n",
    "test_precision_1= precision_score(y_test,test_preds)\n",
    "test_f1 = f1_score(y_test,test_preds)\n"
   ]
  },
  {
   "cell_type": "code",
   "execution_count": 56,
   "metadata": {},
   "outputs": [],
   "source": [
    "d= np.array(['Naive Bayes',train_accuracy_1,train_recall_1,train_precision_1,train_f1,\n",
    "                                           test_accuracy_1,test_recall_1,test_precision_1,test_f1]).reshape(1,9)\n",
    "d=pd.DataFrame(d,columns=model_performance.columns)\n",
    "model_performance = pd.concat([model_performance,d],ignore_index=True)"
   ]
  },
  {
   "cell_type": "code",
   "execution_count": 57,
   "metadata": {},
   "outputs": [
    {
     "data": {
      "text/html": [
       "<div>\n",
       "<style scoped>\n",
       "    .dataframe tbody tr th:only-of-type {\n",
       "        vertical-align: middle;\n",
       "    }\n",
       "\n",
       "    .dataframe tbody tr th {\n",
       "        vertical-align: top;\n",
       "    }\n",
       "\n",
       "    .dataframe thead th {\n",
       "        text-align: right;\n",
       "    }\n",
       "</style>\n",
       "<table border=\"1\" class=\"dataframe\">\n",
       "  <thead>\n",
       "    <tr style=\"text-align: right;\">\n",
       "      <th></th>\n",
       "      <th>Model</th>\n",
       "      <th>Train Accuracy</th>\n",
       "      <th>Train Recall</th>\n",
       "      <th>Train Precision</th>\n",
       "      <th>Train F1 Score</th>\n",
       "      <th>Test Accuracy</th>\n",
       "      <th>Test Recall</th>\n",
       "      <th>Test Precision</th>\n",
       "      <th>Test F1 Score</th>\n",
       "    </tr>\n",
       "  </thead>\n",
       "  <tbody>\n",
       "    <tr>\n",
       "      <th>0</th>\n",
       "      <td>Logistic</td>\n",
       "      <td>0.9982882306053914</td>\n",
       "      <td>0.3181818181818182</td>\n",
       "      <td>0.6533333333333333</td>\n",
       "      <td>0.42794759825327516</td>\n",
       "      <td>0.9982752312758062</td>\n",
       "      <td>0.3333333333333333</td>\n",
       "      <td>0.65</td>\n",
       "      <td>0.4406779661016949</td>\n",
       "    </tr>\n",
       "    <tr>\n",
       "      <th>1</th>\n",
       "      <td>Naive Bayes</td>\n",
       "      <td>0.04693645546132839</td>\n",
       "      <td>1.0</td>\n",
       "      <td>0.002106962553529162</td>\n",
       "      <td>0.004205065192163287</td>\n",
       "      <td>0.04338054669941985</td>\n",
       "      <td>1.0</td>\n",
       "      <td>0.0021262675825973174</td>\n",
       "      <td>0.004243512322506937</td>\n",
       "    </tr>\n",
       "  </tbody>\n",
       "</table>\n",
       "</div>"
      ],
      "text/plain": [
       "         Model       Train Accuracy        Train Recall       Train Precision  \\\n",
       "0     Logistic   0.9982882306053914  0.3181818181818182    0.6533333333333333   \n",
       "1  Naive Bayes  0.04693645546132839                 1.0  0.002106962553529162   \n",
       "\n",
       "         Train F1 Score        Test Accuracy         Test Recall  \\\n",
       "0   0.42794759825327516   0.9982752312758062  0.3333333333333333   \n",
       "1  0.004205065192163287  0.04338054669941985                 1.0   \n",
       "\n",
       "          Test Precision         Test F1 Score  \n",
       "0                   0.65    0.4406779661016949  \n",
       "1  0.0021262675825973174  0.004243512322506937  "
      ]
     },
     "execution_count": 57,
     "metadata": {},
     "output_type": "execute_result"
    }
   ],
   "source": [
    "model_performance"
   ]
  },
  {
   "cell_type": "markdown",
   "metadata": {},
   "source": [
    "---"
   ]
  },
  {
   "cell_type": "markdown",
   "metadata": {},
   "source": [
    "# KNN Model"
   ]
  },
  {
   "cell_type": "code",
   "execution_count": 58,
   "metadata": {},
   "outputs": [
    {
     "data": {
      "text/html": [
       "<style>#sk-container-id-3 {color: black;}#sk-container-id-3 pre{padding: 0;}#sk-container-id-3 div.sk-toggleable {background-color: white;}#sk-container-id-3 label.sk-toggleable__label {cursor: pointer;display: block;width: 100%;margin-bottom: 0;padding: 0.3em;box-sizing: border-box;text-align: center;}#sk-container-id-3 label.sk-toggleable__label-arrow:before {content: \"▸\";float: left;margin-right: 0.25em;color: #696969;}#sk-container-id-3 label.sk-toggleable__label-arrow:hover:before {color: black;}#sk-container-id-3 div.sk-estimator:hover label.sk-toggleable__label-arrow:before {color: black;}#sk-container-id-3 div.sk-toggleable__content {max-height: 0;max-width: 0;overflow: hidden;text-align: left;background-color: #f0f8ff;}#sk-container-id-3 div.sk-toggleable__content pre {margin: 0.2em;color: black;border-radius: 0.25em;background-color: #f0f8ff;}#sk-container-id-3 input.sk-toggleable__control:checked~div.sk-toggleable__content {max-height: 200px;max-width: 100%;overflow: auto;}#sk-container-id-3 input.sk-toggleable__control:checked~label.sk-toggleable__label-arrow:before {content: \"▾\";}#sk-container-id-3 div.sk-estimator input.sk-toggleable__control:checked~label.sk-toggleable__label {background-color: #d4ebff;}#sk-container-id-3 div.sk-label input.sk-toggleable__control:checked~label.sk-toggleable__label {background-color: #d4ebff;}#sk-container-id-3 input.sk-hidden--visually {border: 0;clip: rect(1px 1px 1px 1px);clip: rect(1px, 1px, 1px, 1px);height: 1px;margin: -1px;overflow: hidden;padding: 0;position: absolute;width: 1px;}#sk-container-id-3 div.sk-estimator {font-family: monospace;background-color: #f0f8ff;border: 1px dotted black;border-radius: 0.25em;box-sizing: border-box;margin-bottom: 0.5em;}#sk-container-id-3 div.sk-estimator:hover {background-color: #d4ebff;}#sk-container-id-3 div.sk-parallel-item::after {content: \"\";width: 100%;border-bottom: 1px solid gray;flex-grow: 1;}#sk-container-id-3 div.sk-label:hover label.sk-toggleable__label {background-color: #d4ebff;}#sk-container-id-3 div.sk-serial::before {content: \"\";position: absolute;border-left: 1px solid gray;box-sizing: border-box;top: 0;bottom: 0;left: 50%;z-index: 0;}#sk-container-id-3 div.sk-serial {display: flex;flex-direction: column;align-items: center;background-color: white;padding-right: 0.2em;padding-left: 0.2em;position: relative;}#sk-container-id-3 div.sk-item {position: relative;z-index: 1;}#sk-container-id-3 div.sk-parallel {display: flex;align-items: stretch;justify-content: center;background-color: white;position: relative;}#sk-container-id-3 div.sk-item::before, #sk-container-id-3 div.sk-parallel-item::before {content: \"\";position: absolute;border-left: 1px solid gray;box-sizing: border-box;top: 0;bottom: 0;left: 50%;z-index: -1;}#sk-container-id-3 div.sk-parallel-item {display: flex;flex-direction: column;z-index: 1;position: relative;background-color: white;}#sk-container-id-3 div.sk-parallel-item:first-child::after {align-self: flex-end;width: 50%;}#sk-container-id-3 div.sk-parallel-item:last-child::after {align-self: flex-start;width: 50%;}#sk-container-id-3 div.sk-parallel-item:only-child::after {width: 0;}#sk-container-id-3 div.sk-dashed-wrapped {border: 1px dashed gray;margin: 0 0.4em 0.5em 0.4em;box-sizing: border-box;padding-bottom: 0.4em;background-color: white;}#sk-container-id-3 div.sk-label label {font-family: monospace;font-weight: bold;display: inline-block;line-height: 1.2em;}#sk-container-id-3 div.sk-label-container {text-align: center;}#sk-container-id-3 div.sk-container {/* jupyter's `normalize.less` sets `[hidden] { display: none; }` but bootstrap.min.css set `[hidden] { display: none !important; }` so we also need the `!important` here to be able to override the default hidden behavior on the sphinx rendered scikit-learn.org. See: https://github.com/scikit-learn/scikit-learn/issues/21755 */display: inline-block !important;position: relative;}#sk-container-id-3 div.sk-text-repr-fallback {display: none;}</style><div id=\"sk-container-id-3\" class=\"sk-top-container\"><div class=\"sk-text-repr-fallback\"><pre>KNeighborsClassifier(n_neighbors=3)</pre><b>In a Jupyter environment, please rerun this cell to show the HTML representation or trust the notebook. <br />On GitHub, the HTML representation is unable to render, please try loading this page with nbviewer.org.</b></div><div class=\"sk-container\" hidden><div class=\"sk-item\"><div class=\"sk-estimator sk-toggleable\"><input class=\"sk-toggleable__control sk-hidden--visually\" id=\"sk-estimator-id-3\" type=\"checkbox\" checked><label for=\"sk-estimator-id-3\" class=\"sk-toggleable__label sk-toggleable__label-arrow\">KNeighborsClassifier</label><div class=\"sk-toggleable__content\"><pre>KNeighborsClassifier(n_neighbors=3)</pre></div></div></div></div></div>"
      ],
      "text/plain": [
       "KNeighborsClassifier(n_neighbors=3)"
      ]
     },
     "execution_count": 58,
     "metadata": {},
     "output_type": "execute_result"
    }
   ],
   "source": [
    "knn = neighbors.KNeighborsClassifier(n_neighbors=3)\n",
    "knn.fit(X_train,y_train)"
   ]
  },
  {
   "cell_type": "code",
   "execution_count": 59,
   "metadata": {},
   "outputs": [],
   "source": [
    "train_preds = knn.predict(X_train)\n",
    "test_preds = knn.predict(X_test)"
   ]
  },
  {
   "cell_type": "code",
   "execution_count": 60,
   "metadata": {},
   "outputs": [],
   "source": [
    "train_accuracy_1= accuracy_score(y_train,train_preds)\n",
    "train_recall_1= recall_score(y_train,train_preds)\n",
    "train_precision_1= precision_score(y_train,train_preds)\n",
    "train_f1 = f1_score(y_train,train_preds)\n",
    "\n",
    "test_accuracy_1= accuracy_score(y_test,test_preds)\n",
    "test_recall_1= recall_score(y_test,test_preds)\n",
    "test_precision_1= precision_score(y_test,test_preds)\n",
    "test_f1 = f1_score(y_test,test_preds)\n"
   ]
  },
  {
   "cell_type": "code",
   "execution_count": 61,
   "metadata": {},
   "outputs": [],
   "source": [
    "d= np.array(['KNN',train_accuracy_1,train_recall_1,train_precision_1,train_f1,\n",
    "                                           test_accuracy_1,test_recall_1,test_precision_1,test_f1]).reshape(1,9)\n",
    "d=pd.DataFrame(d,columns=model_performance.columns)\n",
    "model_performance = pd.concat([model_performance,d],ignore_index=True)"
   ]
  },
  {
   "cell_type": "code",
   "execution_count": 62,
   "metadata": {},
   "outputs": [
    {
     "data": {
      "text/html": [
       "<div>\n",
       "<style scoped>\n",
       "    .dataframe tbody tr th:only-of-type {\n",
       "        vertical-align: middle;\n",
       "    }\n",
       "\n",
       "    .dataframe tbody tr th {\n",
       "        vertical-align: top;\n",
       "    }\n",
       "\n",
       "    .dataframe thead th {\n",
       "        text-align: right;\n",
       "    }\n",
       "</style>\n",
       "<table border=\"1\" class=\"dataframe\">\n",
       "  <thead>\n",
       "    <tr style=\"text-align: right;\">\n",
       "      <th></th>\n",
       "      <th>Model</th>\n",
       "      <th>Train Accuracy</th>\n",
       "      <th>Train Recall</th>\n",
       "      <th>Train Precision</th>\n",
       "      <th>Train F1 Score</th>\n",
       "      <th>Test Accuracy</th>\n",
       "      <th>Test Recall</th>\n",
       "      <th>Test Precision</th>\n",
       "      <th>Test F1 Score</th>\n",
       "    </tr>\n",
       "  </thead>\n",
       "  <tbody>\n",
       "    <tr>\n",
       "      <th>0</th>\n",
       "      <td>Logistic</td>\n",
       "      <td>0.9982882306053914</td>\n",
       "      <td>0.3181818181818182</td>\n",
       "      <td>0.6533333333333333</td>\n",
       "      <td>0.42794759825327516</td>\n",
       "      <td>0.9982752312758062</td>\n",
       "      <td>0.3333333333333333</td>\n",
       "      <td>0.65</td>\n",
       "      <td>0.4406779661016949</td>\n",
       "    </tr>\n",
       "    <tr>\n",
       "      <th>1</th>\n",
       "      <td>Naive Bayes</td>\n",
       "      <td>0.04693645546132839</td>\n",
       "      <td>1.0</td>\n",
       "      <td>0.002106962553529162</td>\n",
       "      <td>0.004205065192163287</td>\n",
       "      <td>0.04338054669941985</td>\n",
       "      <td>1.0</td>\n",
       "      <td>0.0021262675825973174</td>\n",
       "      <td>0.004243512322506937</td>\n",
       "    </tr>\n",
       "    <tr>\n",
       "      <th>2</th>\n",
       "      <td>KNN</td>\n",
       "      <td>0.9996863933933542</td>\n",
       "      <td>0.8766233766233766</td>\n",
       "      <td>0.9642857142857143</td>\n",
       "      <td>0.9183673469387756</td>\n",
       "      <td>0.9989546856217008</td>\n",
       "      <td>0.6923076923076923</td>\n",
       "      <td>0.7714285714285715</td>\n",
       "      <td>0.7297297297297296</td>\n",
       "    </tr>\n",
       "  </tbody>\n",
       "</table>\n",
       "</div>"
      ],
      "text/plain": [
       "         Model       Train Accuracy        Train Recall       Train Precision  \\\n",
       "0     Logistic   0.9982882306053914  0.3181818181818182    0.6533333333333333   \n",
       "1  Naive Bayes  0.04693645546132839                 1.0  0.002106962553529162   \n",
       "2          KNN   0.9996863933933542  0.8766233766233766    0.9642857142857143   \n",
       "\n",
       "         Train F1 Score        Test Accuracy         Test Recall  \\\n",
       "0   0.42794759825327516   0.9982752312758062  0.3333333333333333   \n",
       "1  0.004205065192163287  0.04338054669941985                 1.0   \n",
       "2    0.9183673469387756   0.9989546856217008  0.6923076923076923   \n",
       "\n",
       "          Test Precision         Test F1 Score  \n",
       "0                   0.65    0.4406779661016949  \n",
       "1  0.0021262675825973174  0.004243512322506937  \n",
       "2     0.7714285714285715    0.7297297297297296  "
      ]
     },
     "execution_count": 62,
     "metadata": {},
     "output_type": "execute_result"
    }
   ],
   "source": [
    "model_performance"
   ]
  },
  {
   "cell_type": "markdown",
   "metadata": {},
   "source": [
    "---"
   ]
  },
  {
   "cell_type": "markdown",
   "metadata": {},
   "source": [
    "# Decision Tree Classifier"
   ]
  },
  {
   "cell_type": "code",
   "execution_count": 63,
   "metadata": {},
   "outputs": [
    {
     "data": {
      "text/html": [
       "<style>#sk-container-id-4 {color: black;}#sk-container-id-4 pre{padding: 0;}#sk-container-id-4 div.sk-toggleable {background-color: white;}#sk-container-id-4 label.sk-toggleable__label {cursor: pointer;display: block;width: 100%;margin-bottom: 0;padding: 0.3em;box-sizing: border-box;text-align: center;}#sk-container-id-4 label.sk-toggleable__label-arrow:before {content: \"▸\";float: left;margin-right: 0.25em;color: #696969;}#sk-container-id-4 label.sk-toggleable__label-arrow:hover:before {color: black;}#sk-container-id-4 div.sk-estimator:hover label.sk-toggleable__label-arrow:before {color: black;}#sk-container-id-4 div.sk-toggleable__content {max-height: 0;max-width: 0;overflow: hidden;text-align: left;background-color: #f0f8ff;}#sk-container-id-4 div.sk-toggleable__content pre {margin: 0.2em;color: black;border-radius: 0.25em;background-color: #f0f8ff;}#sk-container-id-4 input.sk-toggleable__control:checked~div.sk-toggleable__content {max-height: 200px;max-width: 100%;overflow: auto;}#sk-container-id-4 input.sk-toggleable__control:checked~label.sk-toggleable__label-arrow:before {content: \"▾\";}#sk-container-id-4 div.sk-estimator input.sk-toggleable__control:checked~label.sk-toggleable__label {background-color: #d4ebff;}#sk-container-id-4 div.sk-label input.sk-toggleable__control:checked~label.sk-toggleable__label {background-color: #d4ebff;}#sk-container-id-4 input.sk-hidden--visually {border: 0;clip: rect(1px 1px 1px 1px);clip: rect(1px, 1px, 1px, 1px);height: 1px;margin: -1px;overflow: hidden;padding: 0;position: absolute;width: 1px;}#sk-container-id-4 div.sk-estimator {font-family: monospace;background-color: #f0f8ff;border: 1px dotted black;border-radius: 0.25em;box-sizing: border-box;margin-bottom: 0.5em;}#sk-container-id-4 div.sk-estimator:hover {background-color: #d4ebff;}#sk-container-id-4 div.sk-parallel-item::after {content: \"\";width: 100%;border-bottom: 1px solid gray;flex-grow: 1;}#sk-container-id-4 div.sk-label:hover label.sk-toggleable__label {background-color: #d4ebff;}#sk-container-id-4 div.sk-serial::before {content: \"\";position: absolute;border-left: 1px solid gray;box-sizing: border-box;top: 0;bottom: 0;left: 50%;z-index: 0;}#sk-container-id-4 div.sk-serial {display: flex;flex-direction: column;align-items: center;background-color: white;padding-right: 0.2em;padding-left: 0.2em;position: relative;}#sk-container-id-4 div.sk-item {position: relative;z-index: 1;}#sk-container-id-4 div.sk-parallel {display: flex;align-items: stretch;justify-content: center;background-color: white;position: relative;}#sk-container-id-4 div.sk-item::before, #sk-container-id-4 div.sk-parallel-item::before {content: \"\";position: absolute;border-left: 1px solid gray;box-sizing: border-box;top: 0;bottom: 0;left: 50%;z-index: -1;}#sk-container-id-4 div.sk-parallel-item {display: flex;flex-direction: column;z-index: 1;position: relative;background-color: white;}#sk-container-id-4 div.sk-parallel-item:first-child::after {align-self: flex-end;width: 50%;}#sk-container-id-4 div.sk-parallel-item:last-child::after {align-self: flex-start;width: 50%;}#sk-container-id-4 div.sk-parallel-item:only-child::after {width: 0;}#sk-container-id-4 div.sk-dashed-wrapped {border: 1px dashed gray;margin: 0 0.4em 0.5em 0.4em;box-sizing: border-box;padding-bottom: 0.4em;background-color: white;}#sk-container-id-4 div.sk-label label {font-family: monospace;font-weight: bold;display: inline-block;line-height: 1.2em;}#sk-container-id-4 div.sk-label-container {text-align: center;}#sk-container-id-4 div.sk-container {/* jupyter's `normalize.less` sets `[hidden] { display: none; }` but bootstrap.min.css set `[hidden] { display: none !important; }` so we also need the `!important` here to be able to override the default hidden behavior on the sphinx rendered scikit-learn.org. See: https://github.com/scikit-learn/scikit-learn/issues/21755 */display: inline-block !important;position: relative;}#sk-container-id-4 div.sk-text-repr-fallback {display: none;}</style><div id=\"sk-container-id-4\" class=\"sk-top-container\"><div class=\"sk-text-repr-fallback\"><pre>DecisionTreeClassifier(random_state=42)</pre><b>In a Jupyter environment, please rerun this cell to show the HTML representation or trust the notebook. <br />On GitHub, the HTML representation is unable to render, please try loading this page with nbviewer.org.</b></div><div class=\"sk-container\" hidden><div class=\"sk-item\"><div class=\"sk-estimator sk-toggleable\"><input class=\"sk-toggleable__control sk-hidden--visually\" id=\"sk-estimator-id-4\" type=\"checkbox\" checked><label for=\"sk-estimator-id-4\" class=\"sk-toggleable__label sk-toggleable__label-arrow\">DecisionTreeClassifier</label><div class=\"sk-toggleable__content\"><pre>DecisionTreeClassifier(random_state=42)</pre></div></div></div></div></div>"
      ],
      "text/plain": [
       "DecisionTreeClassifier(random_state=42)"
      ]
     },
     "execution_count": 63,
     "metadata": {},
     "output_type": "execute_result"
    }
   ],
   "source": [
    "dt = DecisionTreeClassifier(random_state=42)\n",
    "dt.fit(X_train,y_train)\n"
   ]
  },
  {
   "cell_type": "code",
   "execution_count": 64,
   "metadata": {},
   "outputs": [],
   "source": [
    "train_preds = dt.predict(X_train)\n",
    "test_preds = dt.predict(X_test)"
   ]
  },
  {
   "cell_type": "code",
   "execution_count": 65,
   "metadata": {},
   "outputs": [],
   "source": [
    "train_accuracy_1= accuracy_score(y_train,train_preds)\n",
    "train_recall_1= recall_score(y_train,train_preds)\n",
    "train_precision_1= precision_score(y_train,train_preds)\n",
    "train_f1 = f1_score(y_train,train_preds)\n",
    "\n",
    "test_accuracy_1= accuracy_score(y_test,test_preds)\n",
    "test_recall_1= recall_score(y_test,test_preds)\n",
    "test_precision_1= precision_score(y_test,test_preds)\n",
    "test_f1 = f1_score(y_test,test_preds)\n"
   ]
  },
  {
   "cell_type": "code",
   "execution_count": 66,
   "metadata": {},
   "outputs": [],
   "source": [
    "d= np.array(['Decision Tree',train_accuracy_1,train_recall_1,train_precision_1,train_f1,\n",
    "                                           test_accuracy_1,test_recall_1,test_precision_1,test_f1]).reshape(1,9)\n",
    "d=pd.DataFrame(d,columns=model_performance.columns)\n",
    "model_performance = pd.concat([model_performance,d],ignore_index=True)"
   ]
  },
  {
   "cell_type": "code",
   "execution_count": 67,
   "metadata": {},
   "outputs": [
    {
     "data": {
      "text/html": [
       "<div>\n",
       "<style scoped>\n",
       "    .dataframe tbody tr th:only-of-type {\n",
       "        vertical-align: middle;\n",
       "    }\n",
       "\n",
       "    .dataframe tbody tr th {\n",
       "        vertical-align: top;\n",
       "    }\n",
       "\n",
       "    .dataframe thead th {\n",
       "        text-align: right;\n",
       "    }\n",
       "</style>\n",
       "<table border=\"1\" class=\"dataframe\">\n",
       "  <thead>\n",
       "    <tr style=\"text-align: right;\">\n",
       "      <th></th>\n",
       "      <th>Model</th>\n",
       "      <th>Train Accuracy</th>\n",
       "      <th>Train Recall</th>\n",
       "      <th>Train Precision</th>\n",
       "      <th>Train F1 Score</th>\n",
       "      <th>Test Accuracy</th>\n",
       "      <th>Test Recall</th>\n",
       "      <th>Test Precision</th>\n",
       "      <th>Test F1 Score</th>\n",
       "    </tr>\n",
       "  </thead>\n",
       "  <tbody>\n",
       "    <tr>\n",
       "      <th>0</th>\n",
       "      <td>Logistic</td>\n",
       "      <td>0.9982882306053914</td>\n",
       "      <td>0.3181818181818182</td>\n",
       "      <td>0.6533333333333333</td>\n",
       "      <td>0.42794759825327516</td>\n",
       "      <td>0.9982752312758062</td>\n",
       "      <td>0.3333333333333333</td>\n",
       "      <td>0.65</td>\n",
       "      <td>0.4406779661016949</td>\n",
       "    </tr>\n",
       "    <tr>\n",
       "      <th>1</th>\n",
       "      <td>Naive Bayes</td>\n",
       "      <td>0.04693645546132839</td>\n",
       "      <td>1.0</td>\n",
       "      <td>0.002106962553529162</td>\n",
       "      <td>0.004205065192163287</td>\n",
       "      <td>0.04338054669941985</td>\n",
       "      <td>1.0</td>\n",
       "      <td>0.0021262675825973174</td>\n",
       "      <td>0.004243512322506937</td>\n",
       "    </tr>\n",
       "    <tr>\n",
       "      <th>2</th>\n",
       "      <td>KNN</td>\n",
       "      <td>0.9996863933933542</td>\n",
       "      <td>0.8766233766233766</td>\n",
       "      <td>0.9642857142857143</td>\n",
       "      <td>0.9183673469387756</td>\n",
       "      <td>0.9989546856217008</td>\n",
       "      <td>0.6923076923076923</td>\n",
       "      <td>0.7714285714285715</td>\n",
       "      <td>0.7297297297297296</td>\n",
       "    </tr>\n",
       "    <tr>\n",
       "      <th>3</th>\n",
       "      <td>Decision Tree</td>\n",
       "      <td>0.9999869330580564</td>\n",
       "      <td>0.9935064935064936</td>\n",
       "      <td>1.0</td>\n",
       "      <td>0.9967426710097721</td>\n",
       "      <td>0.9991637484973606</td>\n",
       "      <td>0.7692307692307693</td>\n",
       "      <td>0.8108108108108109</td>\n",
       "      <td>0.7894736842105263</td>\n",
       "    </tr>\n",
       "  </tbody>\n",
       "</table>\n",
       "</div>"
      ],
      "text/plain": [
       "           Model       Train Accuracy        Train Recall  \\\n",
       "0       Logistic   0.9982882306053914  0.3181818181818182   \n",
       "1    Naive Bayes  0.04693645546132839                 1.0   \n",
       "2            KNN   0.9996863933933542  0.8766233766233766   \n",
       "3  Decision Tree   0.9999869330580564  0.9935064935064936   \n",
       "\n",
       "        Train Precision        Train F1 Score        Test Accuracy  \\\n",
       "0    0.6533333333333333   0.42794759825327516   0.9982752312758062   \n",
       "1  0.002106962553529162  0.004205065192163287  0.04338054669941985   \n",
       "2    0.9642857142857143    0.9183673469387756   0.9989546856217008   \n",
       "3                   1.0    0.9967426710097721   0.9991637484973606   \n",
       "\n",
       "          Test Recall         Test Precision         Test F1 Score  \n",
       "0  0.3333333333333333                   0.65    0.4406779661016949  \n",
       "1                 1.0  0.0021262675825973174  0.004243512322506937  \n",
       "2  0.6923076923076923     0.7714285714285715    0.7297297297297296  \n",
       "3  0.7692307692307693     0.8108108108108109    0.7894736842105263  "
      ]
     },
     "execution_count": 67,
     "metadata": {},
     "output_type": "execute_result"
    }
   ],
   "source": [
    "model_performance"
   ]
  },
  {
   "cell_type": "code",
   "execution_count": 68,
   "metadata": {},
   "outputs": [],
   "source": [
    "\n",
    "param_grid = {'max_depth':range(1, dt.tree_.max_depth+1),\n",
    "              'max_features': range(1, len(dt.feature_importances_)+1)}\n",
    "\n",
    "GR = GridSearchCV(DecisionTreeClassifier(random_state=42),\n",
    "                  param_grid=param_grid,\n",
    "                  scoring='accuracy',\n",
    "                  n_jobs=-1)\n",
    "\n",
    "GR = GR.fit(X_train, y_train)"
   ]
  },
  {
   "cell_type": "code",
   "execution_count": 69,
   "metadata": {},
   "outputs": [],
   "source": [
    "train_preds = GR.predict(X_train)\n",
    "test_preds = GR.predict(X_test)"
   ]
  },
  {
   "cell_type": "code",
   "execution_count": 70,
   "metadata": {},
   "outputs": [],
   "source": [
    "train_accuracy_1= accuracy_score(y_train,train_preds)\n",
    "train_recall_1= recall_score(y_train,train_preds)\n",
    "train_precision_1= precision_score(y_train,train_preds)\n",
    "train_f1 = f1_score(y_train,train_preds)\n",
    "\n",
    "test_accuracy_1= accuracy_score(y_test,test_preds)\n",
    "test_recall_1= recall_score(y_test,test_preds)\n",
    "test_precision_1= precision_score(y_test,test_preds)\n",
    "test_f1 = f1_score(y_test,test_preds)\n"
   ]
  },
  {
   "cell_type": "code",
   "execution_count": 71,
   "metadata": {},
   "outputs": [],
   "source": [
    "d= np.array(['Decision Tree with GridSearchCV',train_accuracy_1,train_recall_1,train_precision_1,train_f1,\n",
    "                                           test_accuracy_1,test_recall_1,test_precision_1,test_f1]).reshape(1,9)\n",
    "d=pd.DataFrame(d,columns=model_performance.columns)\n",
    "model_performance = pd.concat([model_performance,d],ignore_index=True)"
   ]
  },
  {
   "cell_type": "code",
   "execution_count": 72,
   "metadata": {},
   "outputs": [
    {
     "data": {
      "text/html": [
       "<div>\n",
       "<style scoped>\n",
       "    .dataframe tbody tr th:only-of-type {\n",
       "        vertical-align: middle;\n",
       "    }\n",
       "\n",
       "    .dataframe tbody tr th {\n",
       "        vertical-align: top;\n",
       "    }\n",
       "\n",
       "    .dataframe thead th {\n",
       "        text-align: right;\n",
       "    }\n",
       "</style>\n",
       "<table border=\"1\" class=\"dataframe\">\n",
       "  <thead>\n",
       "    <tr style=\"text-align: right;\">\n",
       "      <th></th>\n",
       "      <th>Model</th>\n",
       "      <th>Train Accuracy</th>\n",
       "      <th>Train Recall</th>\n",
       "      <th>Train Precision</th>\n",
       "      <th>Train F1 Score</th>\n",
       "      <th>Test Accuracy</th>\n",
       "      <th>Test Recall</th>\n",
       "      <th>Test Precision</th>\n",
       "      <th>Test F1 Score</th>\n",
       "    </tr>\n",
       "  </thead>\n",
       "  <tbody>\n",
       "    <tr>\n",
       "      <th>0</th>\n",
       "      <td>Logistic</td>\n",
       "      <td>0.9982882306053914</td>\n",
       "      <td>0.3181818181818182</td>\n",
       "      <td>0.6533333333333333</td>\n",
       "      <td>0.42794759825327516</td>\n",
       "      <td>0.9982752312758062</td>\n",
       "      <td>0.3333333333333333</td>\n",
       "      <td>0.65</td>\n",
       "      <td>0.4406779661016949</td>\n",
       "    </tr>\n",
       "    <tr>\n",
       "      <th>1</th>\n",
       "      <td>Naive Bayes</td>\n",
       "      <td>0.04693645546132839</td>\n",
       "      <td>1.0</td>\n",
       "      <td>0.002106962553529162</td>\n",
       "      <td>0.004205065192163287</td>\n",
       "      <td>0.04338054669941985</td>\n",
       "      <td>1.0</td>\n",
       "      <td>0.0021262675825973174</td>\n",
       "      <td>0.004243512322506937</td>\n",
       "    </tr>\n",
       "    <tr>\n",
       "      <th>2</th>\n",
       "      <td>KNN</td>\n",
       "      <td>0.9996863933933542</td>\n",
       "      <td>0.8766233766233766</td>\n",
       "      <td>0.9642857142857143</td>\n",
       "      <td>0.9183673469387756</td>\n",
       "      <td>0.9989546856217008</td>\n",
       "      <td>0.6923076923076923</td>\n",
       "      <td>0.7714285714285715</td>\n",
       "      <td>0.7297297297297296</td>\n",
       "    </tr>\n",
       "    <tr>\n",
       "      <th>3</th>\n",
       "      <td>Decision Tree</td>\n",
       "      <td>0.9999869330580564</td>\n",
       "      <td>0.9935064935064936</td>\n",
       "      <td>1.0</td>\n",
       "      <td>0.9967426710097721</td>\n",
       "      <td>0.9991637484973606</td>\n",
       "      <td>0.7692307692307693</td>\n",
       "      <td>0.8108108108108109</td>\n",
       "      <td>0.7894736842105263</td>\n",
       "    </tr>\n",
       "    <tr>\n",
       "      <th>4</th>\n",
       "      <td>Decision Tree with GridSearchCV</td>\n",
       "      <td>0.9993597198447647</td>\n",
       "      <td>0.7337662337662337</td>\n",
       "      <td>0.9338842975206612</td>\n",
       "      <td>0.8218181818181818</td>\n",
       "      <td>0.9993205456541054</td>\n",
       "      <td>0.717948717948718</td>\n",
       "      <td>0.9333333333333333</td>\n",
       "      <td>0.8115942028985509</td>\n",
       "    </tr>\n",
       "  </tbody>\n",
       "</table>\n",
       "</div>"
      ],
      "text/plain": [
       "                             Model       Train Accuracy        Train Recall  \\\n",
       "0                         Logistic   0.9982882306053914  0.3181818181818182   \n",
       "1                      Naive Bayes  0.04693645546132839                 1.0   \n",
       "2                              KNN   0.9996863933933542  0.8766233766233766   \n",
       "3                    Decision Tree   0.9999869330580564  0.9935064935064936   \n",
       "4  Decision Tree with GridSearchCV   0.9993597198447647  0.7337662337662337   \n",
       "\n",
       "        Train Precision        Train F1 Score        Test Accuracy  \\\n",
       "0    0.6533333333333333   0.42794759825327516   0.9982752312758062   \n",
       "1  0.002106962553529162  0.004205065192163287  0.04338054669941985   \n",
       "2    0.9642857142857143    0.9183673469387756   0.9989546856217008   \n",
       "3                   1.0    0.9967426710097721   0.9991637484973606   \n",
       "4    0.9338842975206612    0.8218181818181818   0.9993205456541054   \n",
       "\n",
       "          Test Recall         Test Precision         Test F1 Score  \n",
       "0  0.3333333333333333                   0.65    0.4406779661016949  \n",
       "1                 1.0  0.0021262675825973174  0.004243512322506937  \n",
       "2  0.6923076923076923     0.7714285714285715    0.7297297297297296  \n",
       "3  0.7692307692307693     0.8108108108108109    0.7894736842105263  \n",
       "4   0.717948717948718     0.9333333333333333    0.8115942028985509  "
      ]
     },
     "execution_count": 72,
     "metadata": {},
     "output_type": "execute_result"
    }
   ],
   "source": [
    "model_performance"
   ]
  },
  {
   "cell_type": "markdown",
   "metadata": {},
   "source": [
    "---"
   ]
  },
  {
   "cell_type": "markdown",
   "metadata": {},
   "source": [
    "# Random Forest"
   ]
  },
  {
   "cell_type": "code",
   "execution_count": 73,
   "metadata": {},
   "outputs": [],
   "source": [
    "RF = RandomForestClassifier(random_state=42,n_estimators=100,n_jobs=-1)\n",
    "RF = RF.fit(X_train, y_train)"
   ]
  },
  {
   "cell_type": "code",
   "execution_count": 74,
   "metadata": {},
   "outputs": [],
   "source": [
    "threshold = 0.35\n",
    "\n",
    "train_preds = RF.predict_proba(X_train)\n",
    "test_preds = RF.predict_proba(X_test)\n",
    "\n",
    "train_preds = (train_preds[:,1] >= threshold).astype('int')\n",
    "test_preds = (test_preds[:,1] >= threshold).astype('int')\n"
   ]
  },
  {
   "cell_type": "code",
   "execution_count": 75,
   "metadata": {},
   "outputs": [],
   "source": [
    "train_accuracy_1= accuracy_score(y_train,train_preds)\n",
    "train_recall_1= recall_score(y_train,train_preds)\n",
    "train_precision_1= precision_score(y_train,train_preds)\n",
    "train_f1 = f1_score(y_train,train_preds)\n",
    "\n",
    "test_accuracy_1= accuracy_score(y_test,test_preds)\n",
    "test_recall_1= recall_score(y_test,test_preds)\n",
    "test_precision_1= precision_score(y_test,test_preds)\n",
    "test_f1 = f1_score(y_test,test_preds)\n"
   ]
  },
  {
   "cell_type": "code",
   "execution_count": 76,
   "metadata": {},
   "outputs": [],
   "source": [
    "d= np.array(['Random Forest',train_accuracy_1,train_recall_1,train_precision_1,train_f1,\n",
    "                                           test_accuracy_1,test_recall_1,test_precision_1,test_f1]).reshape(1,9)\n",
    "d=pd.DataFrame(d,columns=model_performance.columns)\n",
    "model_performance = pd.concat([model_performance,d],ignore_index=True)"
   ]
  },
  {
   "cell_type": "code",
   "execution_count": 77,
   "metadata": {},
   "outputs": [
    {
     "data": {
      "text/html": [
       "<div>\n",
       "<style scoped>\n",
       "    .dataframe tbody tr th:only-of-type {\n",
       "        vertical-align: middle;\n",
       "    }\n",
       "\n",
       "    .dataframe tbody tr th {\n",
       "        vertical-align: top;\n",
       "    }\n",
       "\n",
       "    .dataframe thead th {\n",
       "        text-align: right;\n",
       "    }\n",
       "</style>\n",
       "<table border=\"1\" class=\"dataframe\">\n",
       "  <thead>\n",
       "    <tr style=\"text-align: right;\">\n",
       "      <th></th>\n",
       "      <th>Model</th>\n",
       "      <th>Train Accuracy</th>\n",
       "      <th>Train Recall</th>\n",
       "      <th>Train Precision</th>\n",
       "      <th>Train F1 Score</th>\n",
       "      <th>Test Accuracy</th>\n",
       "      <th>Test Recall</th>\n",
       "      <th>Test Precision</th>\n",
       "      <th>Test F1 Score</th>\n",
       "    </tr>\n",
       "  </thead>\n",
       "  <tbody>\n",
       "    <tr>\n",
       "      <th>0</th>\n",
       "      <td>Logistic</td>\n",
       "      <td>0.9982882306053914</td>\n",
       "      <td>0.3181818181818182</td>\n",
       "      <td>0.6533333333333333</td>\n",
       "      <td>0.42794759825327516</td>\n",
       "      <td>0.9982752312758062</td>\n",
       "      <td>0.3333333333333333</td>\n",
       "      <td>0.65</td>\n",
       "      <td>0.4406779661016949</td>\n",
       "    </tr>\n",
       "    <tr>\n",
       "      <th>1</th>\n",
       "      <td>Naive Bayes</td>\n",
       "      <td>0.04693645546132839</td>\n",
       "      <td>1.0</td>\n",
       "      <td>0.002106962553529162</td>\n",
       "      <td>0.004205065192163287</td>\n",
       "      <td>0.04338054669941985</td>\n",
       "      <td>1.0</td>\n",
       "      <td>0.0021262675825973174</td>\n",
       "      <td>0.004243512322506937</td>\n",
       "    </tr>\n",
       "    <tr>\n",
       "      <th>2</th>\n",
       "      <td>KNN</td>\n",
       "      <td>0.9996863933933542</td>\n",
       "      <td>0.8766233766233766</td>\n",
       "      <td>0.9642857142857143</td>\n",
       "      <td>0.9183673469387756</td>\n",
       "      <td>0.9989546856217008</td>\n",
       "      <td>0.6923076923076923</td>\n",
       "      <td>0.7714285714285715</td>\n",
       "      <td>0.7297297297297296</td>\n",
       "    </tr>\n",
       "    <tr>\n",
       "      <th>3</th>\n",
       "      <td>Decision Tree</td>\n",
       "      <td>0.9999869330580564</td>\n",
       "      <td>0.9935064935064936</td>\n",
       "      <td>1.0</td>\n",
       "      <td>0.9967426710097721</td>\n",
       "      <td>0.9991637484973606</td>\n",
       "      <td>0.7692307692307693</td>\n",
       "      <td>0.8108108108108109</td>\n",
       "      <td>0.7894736842105263</td>\n",
       "    </tr>\n",
       "    <tr>\n",
       "      <th>4</th>\n",
       "      <td>Decision Tree with GridSearchCV</td>\n",
       "      <td>0.9993597198447647</td>\n",
       "      <td>0.7337662337662337</td>\n",
       "      <td>0.9338842975206612</td>\n",
       "      <td>0.8218181818181818</td>\n",
       "      <td>0.9993205456541054</td>\n",
       "      <td>0.717948717948718</td>\n",
       "      <td>0.9333333333333333</td>\n",
       "      <td>0.8115942028985509</td>\n",
       "    </tr>\n",
       "    <tr>\n",
       "      <th>5</th>\n",
       "      <td>Random Forest</td>\n",
       "      <td>0.9999869330580564</td>\n",
       "      <td>1.0</td>\n",
       "      <td>0.9935483870967742</td>\n",
       "      <td>0.9967637540453074</td>\n",
       "      <td>0.9993728113730205</td>\n",
       "      <td>0.8717948717948718</td>\n",
       "      <td>0.8292682926829268</td>\n",
       "      <td>0.8500000000000001</td>\n",
       "    </tr>\n",
       "  </tbody>\n",
       "</table>\n",
       "</div>"
      ],
      "text/plain": [
       "                             Model       Train Accuracy        Train Recall  \\\n",
       "0                         Logistic   0.9982882306053914  0.3181818181818182   \n",
       "1                      Naive Bayes  0.04693645546132839                 1.0   \n",
       "2                              KNN   0.9996863933933542  0.8766233766233766   \n",
       "3                    Decision Tree   0.9999869330580564  0.9935064935064936   \n",
       "4  Decision Tree with GridSearchCV   0.9993597198447647  0.7337662337662337   \n",
       "5                    Random Forest   0.9999869330580564                 1.0   \n",
       "\n",
       "        Train Precision        Train F1 Score        Test Accuracy  \\\n",
       "0    0.6533333333333333   0.42794759825327516   0.9982752312758062   \n",
       "1  0.002106962553529162  0.004205065192163287  0.04338054669941985   \n",
       "2    0.9642857142857143    0.9183673469387756   0.9989546856217008   \n",
       "3                   1.0    0.9967426710097721   0.9991637484973606   \n",
       "4    0.9338842975206612    0.8218181818181818   0.9993205456541054   \n",
       "5    0.9935483870967742    0.9967637540453074   0.9993728113730205   \n",
       "\n",
       "          Test Recall         Test Precision         Test F1 Score  \n",
       "0  0.3333333333333333                   0.65    0.4406779661016949  \n",
       "1                 1.0  0.0021262675825973174  0.004243512322506937  \n",
       "2  0.6923076923076923     0.7714285714285715    0.7297297297297296  \n",
       "3  0.7692307692307693     0.8108108108108109    0.7894736842105263  \n",
       "4   0.717948717948718     0.9333333333333333    0.8115942028985509  \n",
       "5  0.8717948717948718     0.8292682926829268    0.8500000000000001  "
      ]
     },
     "execution_count": 77,
     "metadata": {},
     "output_type": "execute_result"
    }
   ],
   "source": [
    "model_performance"
   ]
  },
  {
   "cell_type": "markdown",
   "metadata": {},
   "source": [
    "---"
   ]
  },
  {
   "cell_type": "markdown",
   "metadata": {},
   "source": [
    "# SVM"
   ]
  },
  {
   "cell_type": "code",
   "execution_count": 78,
   "metadata": {},
   "outputs": [],
   "source": [
    "\n",
    "rbfSVC = SVC(kernel='rbf',C=0.8)\n",
    "\n",
    "rbfSVC = rbfSVC.fit(X_train,y_train)\n"
   ]
  },
  {
   "cell_type": "code",
   "execution_count": 79,
   "metadata": {},
   "outputs": [],
   "source": [
    "train_preds = rbfSVC.predict(X_train)\n",
    "test_preds = rbfSVC.predict(X_test)"
   ]
  },
  {
   "cell_type": "code",
   "execution_count": 80,
   "metadata": {},
   "outputs": [],
   "source": [
    "train_accuracy_1= accuracy_score(y_train,train_preds)\n",
    "train_recall_1= recall_score(y_train,train_preds)\n",
    "train_precision_1= precision_score(y_train,train_preds)\n",
    "train_f1 = f1_score(y_train,train_preds)\n",
    "\n",
    "test_accuracy_1= accuracy_score(y_test,test_preds)\n",
    "test_recall_1= recall_score(y_test,test_preds)\n",
    "test_precision_1= precision_score(y_test,test_preds)\n",
    "test_f1 = f1_score(y_test,test_preds)\n"
   ]
  },
  {
   "cell_type": "code",
   "execution_count": 81,
   "metadata": {},
   "outputs": [],
   "source": [
    "d= np.array(['SVM',train_accuracy_1,train_recall_1,train_precision_1,train_f1,\n",
    "                                           test_accuracy_1,test_recall_1,test_precision_1,test_f1]).reshape(1,9)\n",
    "d=pd.DataFrame(d,columns=model_performance.columns)\n",
    "model_performance = pd.concat([model_performance,d],ignore_index=True)"
   ]
  },
  {
   "cell_type": "code",
   "execution_count": 82,
   "metadata": {},
   "outputs": [
    {
     "data": {
      "text/html": [
       "<div>\n",
       "<style scoped>\n",
       "    .dataframe tbody tr th:only-of-type {\n",
       "        vertical-align: middle;\n",
       "    }\n",
       "\n",
       "    .dataframe tbody tr th {\n",
       "        vertical-align: top;\n",
       "    }\n",
       "\n",
       "    .dataframe thead th {\n",
       "        text-align: right;\n",
       "    }\n",
       "</style>\n",
       "<table border=\"1\" class=\"dataframe\">\n",
       "  <thead>\n",
       "    <tr style=\"text-align: right;\">\n",
       "      <th></th>\n",
       "      <th>Model</th>\n",
       "      <th>Train Accuracy</th>\n",
       "      <th>Train Recall</th>\n",
       "      <th>Train Precision</th>\n",
       "      <th>Train F1 Score</th>\n",
       "      <th>Test Accuracy</th>\n",
       "      <th>Test Recall</th>\n",
       "      <th>Test Precision</th>\n",
       "      <th>Test F1 Score</th>\n",
       "    </tr>\n",
       "  </thead>\n",
       "  <tbody>\n",
       "    <tr>\n",
       "      <th>0</th>\n",
       "      <td>Logistic</td>\n",
       "      <td>0.9982882306053914</td>\n",
       "      <td>0.3181818181818182</td>\n",
       "      <td>0.6533333333333333</td>\n",
       "      <td>0.42794759825327516</td>\n",
       "      <td>0.9982752312758062</td>\n",
       "      <td>0.3333333333333333</td>\n",
       "      <td>0.65</td>\n",
       "      <td>0.4406779661016949</td>\n",
       "    </tr>\n",
       "    <tr>\n",
       "      <th>1</th>\n",
       "      <td>Naive Bayes</td>\n",
       "      <td>0.04693645546132839</td>\n",
       "      <td>1.0</td>\n",
       "      <td>0.002106962553529162</td>\n",
       "      <td>0.004205065192163287</td>\n",
       "      <td>0.04338054669941985</td>\n",
       "      <td>1.0</td>\n",
       "      <td>0.0021262675825973174</td>\n",
       "      <td>0.004243512322506937</td>\n",
       "    </tr>\n",
       "    <tr>\n",
       "      <th>2</th>\n",
       "      <td>KNN</td>\n",
       "      <td>0.9996863933933542</td>\n",
       "      <td>0.8766233766233766</td>\n",
       "      <td>0.9642857142857143</td>\n",
       "      <td>0.9183673469387756</td>\n",
       "      <td>0.9989546856217008</td>\n",
       "      <td>0.6923076923076923</td>\n",
       "      <td>0.7714285714285715</td>\n",
       "      <td>0.7297297297297296</td>\n",
       "    </tr>\n",
       "    <tr>\n",
       "      <th>3</th>\n",
       "      <td>Decision Tree</td>\n",
       "      <td>0.9999869330580564</td>\n",
       "      <td>0.9935064935064936</td>\n",
       "      <td>1.0</td>\n",
       "      <td>0.9967426710097721</td>\n",
       "      <td>0.9991637484973606</td>\n",
       "      <td>0.7692307692307693</td>\n",
       "      <td>0.8108108108108109</td>\n",
       "      <td>0.7894736842105263</td>\n",
       "    </tr>\n",
       "    <tr>\n",
       "      <th>4</th>\n",
       "      <td>Decision Tree with GridSearchCV</td>\n",
       "      <td>0.9993597198447647</td>\n",
       "      <td>0.7337662337662337</td>\n",
       "      <td>0.9338842975206612</td>\n",
       "      <td>0.8218181818181818</td>\n",
       "      <td>0.9993205456541054</td>\n",
       "      <td>0.717948717948718</td>\n",
       "      <td>0.9333333333333333</td>\n",
       "      <td>0.8115942028985509</td>\n",
       "    </tr>\n",
       "    <tr>\n",
       "      <th>5</th>\n",
       "      <td>Random Forest</td>\n",
       "      <td>0.9999869330580564</td>\n",
       "      <td>1.0</td>\n",
       "      <td>0.9935483870967742</td>\n",
       "      <td>0.9967637540453074</td>\n",
       "      <td>0.9993728113730205</td>\n",
       "      <td>0.8717948717948718</td>\n",
       "      <td>0.8292682926829268</td>\n",
       "      <td>0.8500000000000001</td>\n",
       "    </tr>\n",
       "    <tr>\n",
       "      <th>6</th>\n",
       "      <td>SVM</td>\n",
       "      <td>0.999660259509467</td>\n",
       "      <td>0.8506493506493507</td>\n",
       "      <td>0.9776119402985075</td>\n",
       "      <td>0.9097222222222223</td>\n",
       "      <td>0.9992160142162756</td>\n",
       "      <td>0.6923076923076923</td>\n",
       "      <td>0.9</td>\n",
       "      <td>0.7826086956521738</td>\n",
       "    </tr>\n",
       "  </tbody>\n",
       "</table>\n",
       "</div>"
      ],
      "text/plain": [
       "                             Model       Train Accuracy        Train Recall  \\\n",
       "0                         Logistic   0.9982882306053914  0.3181818181818182   \n",
       "1                      Naive Bayes  0.04693645546132839                 1.0   \n",
       "2                              KNN   0.9996863933933542  0.8766233766233766   \n",
       "3                    Decision Tree   0.9999869330580564  0.9935064935064936   \n",
       "4  Decision Tree with GridSearchCV   0.9993597198447647  0.7337662337662337   \n",
       "5                    Random Forest   0.9999869330580564                 1.0   \n",
       "6                              SVM    0.999660259509467  0.8506493506493507   \n",
       "\n",
       "        Train Precision        Train F1 Score        Test Accuracy  \\\n",
       "0    0.6533333333333333   0.42794759825327516   0.9982752312758062   \n",
       "1  0.002106962553529162  0.004205065192163287  0.04338054669941985   \n",
       "2    0.9642857142857143    0.9183673469387756   0.9989546856217008   \n",
       "3                   1.0    0.9967426710097721   0.9991637484973606   \n",
       "4    0.9338842975206612    0.8218181818181818   0.9993205456541054   \n",
       "5    0.9935483870967742    0.9967637540453074   0.9993728113730205   \n",
       "6    0.9776119402985075    0.9097222222222223   0.9992160142162756   \n",
       "\n",
       "          Test Recall         Test Precision         Test F1 Score  \n",
       "0  0.3333333333333333                   0.65    0.4406779661016949  \n",
       "1                 1.0  0.0021262675825973174  0.004243512322506937  \n",
       "2  0.6923076923076923     0.7714285714285715    0.7297297297297296  \n",
       "3  0.7692307692307693     0.8108108108108109    0.7894736842105263  \n",
       "4   0.717948717948718     0.9333333333333333    0.8115942028985509  \n",
       "5  0.8717948717948718     0.8292682926829268    0.8500000000000001  \n",
       "6  0.6923076923076923                    0.9    0.7826086956521738  "
      ]
     },
     "execution_count": 82,
     "metadata": {},
     "output_type": "execute_result"
    }
   ],
   "source": [
    "model_performance"
   ]
  },
  {
   "cell_type": "markdown",
   "metadata": {},
   "source": [
    "---"
   ]
  }
 ],
 "metadata": {
  "kernelspec": {
   "display_name": "prog",
   "language": "python",
   "name": "python3"
  },
  "language_info": {
   "codemirror_mode": {
    "name": "ipython",
    "version": 3
   },
   "file_extension": ".py",
   "mimetype": "text/x-python",
   "name": "python",
   "nbconvert_exporter": "python",
   "pygments_lexer": "ipython3",
   "version": "3.10.0"
  }
 },
 "nbformat": 4,
 "nbformat_minor": 2
}
